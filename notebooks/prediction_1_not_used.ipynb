{
 "cells": [
  {
   "cell_type": "code",
   "execution_count": 3,
   "id": "8fdff29a-da68-485b-b6cc-84b0e95a98cd",
   "metadata": {},
   "outputs": [
    {
     "name": "stdout",
     "output_type": "stream",
     "text": [
      "Requirement already satisfied: joblib in /Users/steve/PycharmProjects/uu_school/playstore/venv/lib/python3.12/site-packages (1.4.2)\n",
      "\n",
      "\u001b[1m[\u001b[0m\u001b[34;49mnotice\u001b[0m\u001b[1;39;49m]\u001b[0m\u001b[39;49m A new release of pip is available: \u001b[0m\u001b[31;49m24.0\u001b[0m\u001b[39;49m -> \u001b[0m\u001b[32;49m24.3.1\u001b[0m\n",
      "\u001b[1m[\u001b[0m\u001b[34;49mnotice\u001b[0m\u001b[1;39;49m]\u001b[0m\u001b[39;49m To update, run: \u001b[0m\u001b[32;49mpip install --upgrade pip\u001b[0m\n"
     ]
    }
   ],
   "source": [
    "!pip install joblib"
   ]
  },
  {
   "cell_type": "code",
   "execution_count": 35,
   "id": "17d04451-3def-4d20-a232-8aed88d24f94",
   "metadata": {},
   "outputs": [],
   "source": [
    "import os\n",
    "import pandas as pd\n",
    "from sklearn.model_selection import train_test_split\n",
    "from sklearn.ensemble import RandomForestRegressor\n",
    "import joblib\n",
    "from playstore.config import CLEAN_DATA_DIR"
   ]
  },
  {
   "cell_type": "code",
   "execution_count": 36,
   "id": "334a9cca-7fde-4204-8c49-deee73ed3cf6",
   "metadata": {},
   "outputs": [
    {
     "name": "stdout",
     "output_type": "stream",
     "text": [
      "Loaded\n"
     ]
    }
   ],
   "source": [
    "# Load data\n",
    "try:\n",
    "    df = pd.read_csv(\"cleaned_googleplaystore.csv\")  # Update to your actual file path if different\n",
    "    print(\"Loaded\")\n",
    "except Exception as e:\n",
    "    print(\"Error loading data:\", e)\n",
    "    df = pd.DataFrame({\n",
    "        'Category': ['Game', 'Education', 'Business'],\n",
    "        'Rating': [4.5, 4.0, 3.8],\n",
    "        'Type': ['Free', 'Free', 'Paid'],\n",
    "        'Installs': [1000000, 500000, 100000],\n",
    "    })\n",
    "\n"
   ]
  },
  {
   "cell_type": "code",
   "execution_count": 40,
   "id": "db28eb3d-6a8c-44ff-ae38-b79e648dcc78",
   "metadata": {},
   "outputs": [
    {
     "name": "stderr",
     "output_type": "stream",
     "text": [
      "/var/folders/kd/bldn4b0j3q31pb8c56pgmyy80000gn/T/ipykernel_60493/3917860194.py:17: FutureWarning: Setting an item of incompatible dtype is deprecated and will raise an error in a future version of pandas. Value '-823644.75' has dtype incompatible with int64, please explicitly cast to a compatible dtype first.\n",
      "  df.loc[(df[variable] < low_limit), variable] = low_limit\n",
      "/var/folders/kd/bldn4b0j3q31pb8c56pgmyy80000gn/T/ipykernel_60493/3917860194.py:17: FutureWarning: Setting an item of incompatible dtype is deprecated and will raise an error in a future version of pandas. Value '-7.5' has dtype incompatible with int64, please explicitly cast to a compatible dtype first.\n",
      "  df.loc[(df[variable] < low_limit), variable] = low_limit\n"
     ]
    },
    {
     "name": "stdout",
     "output_type": "stream",
     "text": [
      "Model Score: 0.9984980763593673\n"
     ]
    }
   ],
   "source": [
    "# Select numeric columns\n",
    "datanum = [col for col in df.columns if df[col].dtype != 'O']\n",
    "dfnum = df[datanum]\n",
    "\n",
    "# Define functions for outlier handling\n",
    "def outlier_thresholds(dataframe, variable):\n",
    "    quartile1 = dataframe[variable].quantile(0.10)\n",
    "    quartile3 = dataframe[variable].quantile(0.90)\n",
    "    interquantile_range = quartile3 - quartile1\n",
    "    up_limit = quartile3 + 1.5 * interquantile_range\n",
    "    low_limit = quartile1 - 1.5 * interquantile_range\n",
    "    return low_limit, up_limit\n",
    "\n",
    "def replace_with_thresholds(df, numeric_columns):\n",
    "    for variable in numeric_columns:\n",
    "        low_limit, up_limit = outlier_thresholds(df, variable)\n",
    "        df.loc[(df[variable] < low_limit), variable] = low_limit\n",
    "        df.loc[(df[variable] > up_limit), variable] = up_limit\n",
    "\n",
    "# Handle outliers\n",
    "replace_with_thresholds(dfnum, dfnum.columns)\n",
    "\n",
    "# Prepare data for prediction\n",
    "y = df[\"Rating\"]\n",
    "x = dfnum\n",
    "x_train, x_test, y_train, y_test = train_test_split(x, y, train_size=0.81, random_state=81)\n",
    "\n",
    "# Train and evaluate model\n",
    "rf = RandomForestRegressor()\n",
    "model = rf.fit(x_train, y_train)\n",
    "score = model.score(x_test, y_test)\n",
    "\n",
    "print(\"Model Score:\", score)"
   ]
  },
  {
   "cell_type": "code",
   "execution_count": 38,
   "id": "481c4f8a-4548-4e3f-a06e-278577df720c",
   "metadata": {},
   "outputs": [
    {
     "data": {
      "text/plain": [
       "['rf_model.pkl']"
      ]
     },
     "execution_count": 38,
     "metadata": {},
     "output_type": "execute_result"
    }
   ],
   "source": [
    "model_path = os.path.join(CLEAN_DATA_DIR, \"rf_model.pkl\")\n",
    "joblib.dump(model, \"rf_model.pkl\")"
   ]
  },
  {
   "cell_type": "code",
   "execution_count": null,
   "id": "a2c75cba-da9a-45e8-9a46-bb97286690ae",
   "metadata": {},
   "outputs": [],
   "source": [
    "model_path = os.path.join(CLEAN_DATA_DIR, \"rf_model2.pkl\")\n",
    "joblib.dump(model, \"rf_model2.pkl\")"
   ]
  }
 ],
 "metadata": {
  "kernelspec": {
   "display_name": "Python 3 (ipykernel)",
   "language": "python",
   "name": "python3"
  },
  "language_info": {
   "codemirror_mode": {
    "name": "ipython",
    "version": 3
   },
   "file_extension": ".py",
   "mimetype": "text/x-python",
   "name": "python",
   "nbconvert_exporter": "python",
   "pygments_lexer": "ipython3",
   "version": "3.12.3"
  }
 },
 "nbformat": 4,
 "nbformat_minor": 5
}
