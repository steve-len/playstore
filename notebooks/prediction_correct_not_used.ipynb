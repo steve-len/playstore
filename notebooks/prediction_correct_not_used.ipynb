{
 "cells": [
  {
   "cell_type": "code",
   "execution_count": 7,
   "id": "ca00433e-5e07-4a49-bbc4-c737ea238bf2",
   "metadata": {},
   "outputs": [
    {
     "name": "stdout",
     "output_type": "stream",
     "text": [
      "Collecting xgboost\n",
      "  Downloading xgboost-2.1.3-py3-none-macosx_12_0_arm64.whl.metadata (2.1 kB)\n",
      "Requirement already satisfied: numpy in /Users/steve/PycharmProjects/uu_school/playstore/venv/lib/python3.12/site-packages (from xgboost) (2.2.1)\n",
      "Requirement already satisfied: scipy in /Users/steve/PycharmProjects/uu_school/playstore/venv/lib/python3.12/site-packages (from xgboost) (1.14.1)\n",
      "Downloading xgboost-2.1.3-py3-none-macosx_12_0_arm64.whl (1.9 MB)\n",
      "\u001b[2K   \u001b[90m━━━━━━━━━━━━━━━━━━━━━━━━━━━━━━━━━━━━━━━━\u001b[0m \u001b[32m1.9/1.9 MB\u001b[0m \u001b[31m13.4 MB/s\u001b[0m eta \u001b[36m0:00:00\u001b[0ma \u001b[36m0:00:01\u001b[0m\n",
      "Installing collected packages: xgboost\n",
      "Successfully installed xgboost-2.1.3\n",
      "\n",
      "\u001b[1m[\u001b[0m\u001b[34;49mnotice\u001b[0m\u001b[1;39;49m]\u001b[0m\u001b[39;49m A new release of pip is available: \u001b[0m\u001b[31;49m24.0\u001b[0m\u001b[39;49m -> \u001b[0m\u001b[32;49m24.3.1\u001b[0m\n",
      "\u001b[1m[\u001b[0m\u001b[34;49mnotice\u001b[0m\u001b[1;39;49m]\u001b[0m\u001b[39;49m To update, run: \u001b[0m\u001b[32;49mpip install --upgrade pip\u001b[0m\n",
      "Note: you may need to restart the kernel to use updated packages.\n"
     ]
    }
   ],
   "source": [
    "pip install xgboost"
   ]
  },
  {
   "cell_type": "code",
   "execution_count": 26,
   "id": "3e3e15ca-14ed-4d99-8009-70bb3d8b4f03",
   "metadata": {},
   "outputs": [],
   "source": [
    "import numpy as np\n",
    "import os\n",
    "import pandas as pd\n",
    "from sklearn.model_selection import train_test_split\n",
    "from sklearn.metrics import classification_report, accuracy_score\n",
    "\n",
    "from sklearn.preprocessing import LabelEncoder, StandardScaler\n",
    "from sklearn.ensemble import RandomForestRegressor, RandomForestClassifier\n",
    "from sklearn.metrics import mean_squared_error, r2_score\n",
    "from sklearn.pipeline import Pipeline\n",
    "\n",
    "import joblib\n",
    "from playstore.config import CLEAN_DATA_DIR"
   ]
  },
  {
   "cell_type": "code",
   "execution_count": 2,
   "id": "1215ae56-a539-4176-826e-4a01b8b7a3de",
   "metadata": {},
   "outputs": [
    {
     "name": "stdout",
     "output_type": "stream",
     "text": [
      "Loaded\n"
     ]
    }
   ],
   "source": [
    "# Load data\n",
    "try:\n",
    "    df = pd.read_csv(\"cleaned_googleplaystore.csv\")  # Update to your actual file path if different\n",
    "    print(\"Loaded\")\n",
    "except Exception as e:\n",
    "    print(\"Error loading data:\", e)\n",
    "    df = pd.DataFrame({\n",
    "        'Category': ['Game', 'Education', 'Business'],\n",
    "        'Rating': [4.5, 4.0, 3.8],\n",
    "        'Type': ['Free', 'Free', 'Paid'],\n",
    "        'Installs': [1000000, 500000, 100000],\n",
    "    })\n"
   ]
  },
  {
   "cell_type": "code",
   "execution_count": 30,
   "id": "ff5f25d8-021d-4556-9eaa-9da0220dd715",
   "metadata": {},
   "outputs": [
    {
     "name": "stdout",
     "output_type": "stream",
     "text": [
      "Train Accuracy: 0.7816544738323016\n",
      "Test Accuracy: 0.703037120359955\n",
      "\n",
      "Classification Report:\n",
      "              precision    recall  f1-score   support\n",
      "\n",
      "        High       0.53      0.19      0.28       374\n",
      "         Low       0.36      0.02      0.04       178\n",
      "      Medium       0.72      0.96      0.82      1226\n",
      "\n",
      "    accuracy                           0.70      1778\n",
      "   macro avg       0.54      0.39      0.38      1778\n",
      "weighted avg       0.64      0.70      0.63      1778\n",
      "\n",
      "            Feature  Importance\n",
      "0       log_Reviews    0.322115\n",
      "1          log_Size    0.185995\n",
      "3  Category_encoded    0.142067\n",
      "8       Updated_Day    0.123462\n",
      "7     Updated_Month    0.088654\n",
      "6      Updated_Year    0.058020\n",
      "5       interaction    0.039681\n",
      "2             Price    0.032238\n",
      "4      Type_encoded    0.007768\n"
     ]
    }
   ],
   "source": [
    "# Rozdelenie hodnotení do kategórií\n",
    "df['Rating_category'] = pd.cut(\n",
    "    df['Rating'],\n",
    "    bins=[0, 3.5, 4.5, 5],\n",
    "    labels=['Low', 'Medium', 'High']\n",
    ")\n",
    "\n",
    "# Pripraviť vlastnosti a cieľovú premennú\n",
    "X = df[features]  # Rovnaké vlastnosti ako predtým\n",
    "y = df['Rating_category']\n",
    "\n",
    "# Encode cieľovú premennú\n",
    "le = LabelEncoder()\n",
    "y_encoded = le.fit_transform(y)\n",
    "\n",
    "# Train-test split\n",
    "X_train, X_test, y_train, y_test = train_test_split(X, y_encoded, test_size=0.2, random_state=42)\n",
    "\n",
    "# Trénovanie Random Forest klasifikátora\n",
    "clf = RandomForestClassifier(\n",
    "    n_estimators=100,\n",
    "    max_depth=10,\n",
    "    random_state=42\n",
    ")\n",
    "clf.fit(X_train, y_train)\n",
    "\n",
    "# Predikcia\n",
    "train_pred = clf.predict(X_train)\n",
    "test_pred = clf.predict(X_test)\n",
    "\n",
    "# Vyhodnotenie modelu\n",
    "print(\"Train Accuracy:\", accuracy_score(y_train, train_pred))\n",
    "print(\"Test Accuracy:\", accuracy_score(y_test, test_pred))\n",
    "print(\"\\nClassification Report:\")\n",
    "print(classification_report(y_test, test_pred, target_names=le.classes_))\n",
    "feature_importances = clf.feature_importances_\n",
    "\n",
    "# Vytvorenie tabuľky dôležitosti vlastností\n",
    "importance_df = pd.DataFrame({\n",
    "    'Feature': features,\n",
    "    'Importance': feature_importances\n",
    "}).sort_values(by='Importance', ascending=False)\n",
    "\n",
    "# Výpis tabuľky\n",
    "print(importance_df)\n"
   ]
  },
  {
   "cell_type": "code",
   "execution_count": 31,
   "id": "1ee44163-30bb-411a-8534-21d7aa6a8db6",
   "metadata": {},
   "outputs": [
    {
     "name": "stdout",
     "output_type": "stream",
     "text": [
      "Model saved to /Users/steve/PycharmProjects/uu_school/playstore/notebooks/rf_model_cl.pkl\n"
     ]
    }
   ],
   "source": [
    "model_path = os.path.join(os.getcwd(), \"rf_model_cl.pkl\")\n",
    "joblib.dump(model, model_path)\n",
    "print(f\"Model saved to {model_path}\")"
   ]
  },
  {
   "cell_type": "code",
   "execution_count": null,
   "id": "d53c2773-c5c4-439c-b4be-4c3c11b747ec",
   "metadata": {},
   "outputs": [],
   "source": []
  }
 ],
 "metadata": {
  "kernelspec": {
   "display_name": "Python 3 (ipykernel)",
   "language": "python",
   "name": "python3"
  },
  "language_info": {
   "codemirror_mode": {
    "name": "ipython",
    "version": 3
   },
   "file_extension": ".py",
   "mimetype": "text/x-python",
   "name": "python",
   "nbconvert_exporter": "python",
   "pygments_lexer": "ipython3",
   "version": "3.12.3"
  }
 },
 "nbformat": 4,
 "nbformat_minor": 5
}
