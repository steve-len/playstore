{
 "cells": [
  {
   "cell_type": "markdown",
   "id": "e3f32e7b-a1c8-478c-a673-1c3d4d1378b6",
   "metadata": {},
   "source": [
    "# Import knižníc pre dátovú analýzu a vizualizáciu\n",
    "\n",
    "Tento kód importuje základné knižnice pre komplexnú analýzu a vizualizáciu dát:\n",
    "\n",
    "**Základné knižnice**\n",
    "* `os.path` - poskytuje funkcie pre prácu s cestami k súborom v rôznych operačných systémoch\n",
    "* `pandas` - umožňuje efektívnu prácu s tabuľkovými dátami\n",
    "* `numpy` - poskytuje podporu pre matematické operácie a prácu s poľami\n",
    "\n",
    "**Vizualizačné knižnice**\n",
    "* `matplotlib.pyplot` - základná knižnica pre tvorbu grafov a vizualizácií\n",
    "* `seaborn` - nadstavba nad matplotlib, ktorá poskytuje pokročilejšie a krajšie vizualizácie\n",
    "\n",
    "**Konfigurácia**\n",
    "Z lokálneho konfiguračného súboru sa importujú cesty k priečinkom:\n",
    "* `RAW_DATA_DIR` - cesta k surovým, nespracovaným dátam\n",
    "* `CLEAN_DATA_DIR` - cesta k vyčisteným dátam"
   ]
  },
  {
   "cell_type": "code",
   "execution_count": 1,
   "id": "fea354e7-57be-440e-910f-b34cadb53b13",
   "metadata": {},
   "outputs": [],
   "source": [
    "import os.path\n",
    "import pandas as pd\n",
    "import numpy as np\n",
    "import matplotlib.pyplot as plt\n",
    "import seaborn as sns\n",
    "from playstore.config import RAW_DATA_DIR,CLEAN_DATA_DIR"
   ]
  },
  {
   "cell_type": "markdown",
   "id": "ff918150-1017-4857-ba81-d51708787fb9",
   "metadata": {},
   "source": [
    "# Načítanie dát\n",
    "\n",
    "Kód načíta surové dáta z Google Play Store z CSV súboru, ktorý sa nachádza v priečinku definovanom v `RAW_DATA_DIR`."
   ]
  },
  {
   "cell_type": "code",
   "execution_count": 3,
   "id": "37d72e65-43c1-4806-af2f-7bd0aa0f9c75",
   "metadata": {},
   "outputs": [],
   "source": [
    "df = pd.read_csv(os.path.join(RAW_DATA_DIR,'googleplaystore.csv')) "
   ]
  },
  {
   "cell_type": "markdown",
   "id": "543a6efa-8851-4e81-89ab-9d3a8436abd9",
   "metadata": {},
   "source": [
    "# Info o datasete\n",
    "\n",
    "Príkaz zobrazí základný prehľad o štruktúre dát - počet a typy stĺpcov, počet riadkov, a informácie o chýbajúcich hodnotách."
   ]
  },
  {
   "cell_type": "code",
   "execution_count": 4,
   "id": "bb599f81-6e34-4884-87b1-ba62b29386db",
   "metadata": {},
   "outputs": [
    {
     "name": "stdout",
     "output_type": "stream",
     "text": [
      "<class 'pandas.core.frame.DataFrame'>\n",
      "RangeIndex: 10841 entries, 0 to 10840\n",
      "Data columns (total 13 columns):\n",
      " #   Column          Non-Null Count  Dtype  \n",
      "---  ------          --------------  -----  \n",
      " 0   App             10841 non-null  object \n",
      " 1   Category        10841 non-null  object \n",
      " 2   Rating          9367 non-null   float64\n",
      " 3   Reviews         10841 non-null  object \n",
      " 4   Size            10841 non-null  object \n",
      " 5   Installs        10841 non-null  object \n",
      " 6   Type            10840 non-null  object \n",
      " 7   Price           10841 non-null  object \n",
      " 8   Content Rating  10840 non-null  object \n",
      " 9   Genres          10841 non-null  object \n",
      " 10  Last Updated    10841 non-null  object \n",
      " 11  Current Ver     10833 non-null  object \n",
      " 12  Android Ver     10838 non-null  object \n",
      "dtypes: float64(1), object(12)\n",
      "memory usage: 1.1+ MB\n"
     ]
    }
   ],
   "source": [
    "df.info()"
   ]
  },
  {
   "cell_type": "markdown",
   "id": "f04e495b-6667-4093-b08d-e888abc48740",
   "metadata": {},
   "source": [
    "# Zobrazenie názvov stĺpcov\n",
    "\n",
    "Príkaz `df.columns` vypíše zoznam všetkých stĺpcov v našom DataFrame, čo nám umožňuje vidieť, aké informácie o aplikáciách máme k dispozícii."
   ]
  },
  {
   "cell_type": "code",
   "execution_count": 5,
   "id": "6bf4527d-90c7-4646-b313-b8192fd0c19d",
   "metadata": {},
   "outputs": [
    {
     "data": {
      "text/plain": [
       "Index(['App', 'Category', 'Rating', 'Reviews', 'Size', 'Installs', 'Type',\n",
       "       'Price', 'Content Rating', 'Genres', 'Last Updated', 'Current Ver',\n",
       "       'Android Ver'],\n",
       "      dtype='object')"
      ]
     },
     "execution_count": 5,
     "metadata": {},
     "output_type": "execute_result"
    }
   ],
   "source": [
    "df.columns"
   ]
  },
  {
   "cell_type": "markdown",
   "id": "769d3a84-6754-4251-bd63-bdf1c28a4ae5",
   "metadata": {},
   "source": [
    "# Úprava názvov stĺpcov\n",
    "\n",
    "Nahradzuje medzery v názvoch stĺpcov podčiarkovníkmi a zobrazí nové názvy."
   ]
  },
  {
   "cell_type": "code",
   "execution_count": 6,
   "id": "3368bef7-59e1-4d89-b5e7-9217950bbdd3",
   "metadata": {},
   "outputs": [
    {
     "data": {
      "text/plain": [
       "Index(['App', 'Category', 'Rating', 'Reviews', 'Size', 'Installs', 'Type',\n",
       "       'Price', 'Content_Rating', 'Genres', 'Last_Updated', 'Current_Ver',\n",
       "       'Android_Ver'],\n",
       "      dtype='object')"
      ]
     },
     "execution_count": 6,
     "metadata": {},
     "output_type": "execute_result"
    }
   ],
   "source": [
    "df.columns=df.columns.str.replace(\" \",\"_\")\n",
    "df.columns"
   ]
  },
  {
   "cell_type": "markdown",
   "id": "f5d87bfa-eeb8-4265-9d58-08e9798945c9",
   "metadata": {},
   "source": [
    "# Nahradenie chýbajúcich hodnotení\n",
    "\n",
    "Nahrádza chýbajúce hodnoty (NA) v stĺpci \"Rating\" mediánom všetkých hodnotení, čím zabezpečuje úplnosť dát."
   ]
  },
  {
   "cell_type": "code",
   "execution_count": 8,
   "id": "37a8e3e1-a914-48a2-9c58-d247c5e9ea74",
   "metadata": {},
   "outputs": [
    {
     "data": {
      "text/plain": [
       "0        4.1\n",
       "1        3.9\n",
       "2        4.7\n",
       "3        4.5\n",
       "4        4.3\n",
       "        ... \n",
       "10836    4.5\n",
       "10837    5.0\n",
       "10838    4.3\n",
       "10839    4.5\n",
       "10840    4.5\n",
       "Name: Rating, Length: 10841, dtype: float64"
      ]
     },
     "execution_count": 8,
     "metadata": {},
     "output_type": "execute_result"
    }
   ],
   "source": [
    "df[\"Rating\"].fillna(df[\"Rating\"].median())"
   ]
  },
  {
   "cell_type": "markdown",
   "id": "f8b09f44-6a01-4922-9524-33db6926693d",
   "metadata": {},
   "source": [
    "# Kontrola chýbajúcich hodnôt\n",
    "\n",
    "Zobrazí súčet chýbajúcich hodnôt (NA/null) pre každý stĺpec v datasete, čo nám pomáha identifikovať, kde potrebujeme dáta vyčistiť."
   ]
  },
  {
   "cell_type": "code",
   "execution_count": 7,
   "id": "76135edd-d01c-422a-8113-3943da8f2da6",
   "metadata": {},
   "outputs": [
    {
     "data": {
      "text/plain": [
       "App                  0\n",
       "Category             0\n",
       "Rating            1474\n",
       "Reviews              0\n",
       "Size                 0\n",
       "Installs             0\n",
       "Type                 1\n",
       "Price                0\n",
       "Content_Rating       1\n",
       "Genres               0\n",
       "Last_Updated         0\n",
       "Current_Ver          8\n",
       "Android_Ver          3\n",
       "dtype: int64"
      ]
     },
     "execution_count": 7,
     "metadata": {},
     "output_type": "execute_result"
    }
   ],
   "source": [
    "df.isnull().sum()"
   ]
  },
  {
   "cell_type": "markdown",
   "id": "3270ec9c-f2c1-4c2e-a184-0b9d3a78260e",
   "metadata": {},
   "source": [
    "# Čistenie dát\n",
    "\n",
    "1. Odstráni všetky riadky s chýbajúcimi hodnotami \n",
    "2. Odstráni duplicitné záznamy\n",
    "3. Skontroluje, či zostali nejaké chýbajúce hodnoty v datasete"
   ]
  },
  {
   "cell_type": "code",
   "execution_count": 25,
   "id": "a00a9a69-da72-4b80-82b2-5c40e2f1bfc7",
   "metadata": {},
   "outputs": [
    {
     "data": {
      "text/plain": [
       "App               0\n",
       "Category          0\n",
       "Rating            0\n",
       "Reviews           0\n",
       "Size              0\n",
       "Installs          0\n",
       "Type              0\n",
       "Price             0\n",
       "Content_Rating    0\n",
       "Genres            0\n",
       "Current_Ver       0\n",
       "Android_Ver       0\n",
       "Updated_Day       0\n",
       "Updated_Month     0\n",
       "Updated_Year      0\n",
       "dtype: int64"
      ]
     },
     "execution_count": 25,
     "metadata": {},
     "output_type": "execute_result"
    }
   ],
   "source": [
    "df=df.dropna()\n",
    "df=df.drop_duplicates()\n",
    "df.isnull().sum()"
   ]
  },
  {
   "cell_type": "markdown",
   "id": "dc6d42c1-517e-48f1-bb44-5095fae774bd",
   "metadata": {},
   "source": [
    "# Kontrola dátových typov\n",
    "\n",
    "Zobrazí dátový typ (int, float, string, atď.) pre každý stĺpec v našom datasete, čo nám pomáha pochopiť, v akom formáte sú naše dáta uložené."
   ]
  },
  {
   "cell_type": "code",
   "execution_count": 10,
   "id": "07970c99-42ba-4b11-916a-b567d37cf1c4",
   "metadata": {},
   "outputs": [
    {
     "data": {
      "text/plain": [
       "App                object\n",
       "Category           object\n",
       "Rating            float64\n",
       "Reviews            object\n",
       "Size               object\n",
       "Installs           object\n",
       "Type               object\n",
       "Price              object\n",
       "Content_Rating     object\n",
       "Genres             object\n",
       "Last_Updated       object\n",
       "Current_Ver        object\n",
       "Android_Ver        object\n",
       "dtype: object"
      ]
     },
     "execution_count": 10,
     "metadata": {},
     "output_type": "execute_result"
    }
   ],
   "source": [
    "df.dtypes"
   ]
  },
  {
   "cell_type": "markdown",
   "id": "d6627742-0d97-497d-810a-c5562dae3ff3",
   "metadata": {},
   "source": [
    "# Čistenie údajov o veľkosti aplikácií\n",
    "\n",
    "Tento kód upravuje a štandardizuje údaje o veľkosti aplikácií v troch krokoch:\n",
    "\n",
    "1. Konvertuje veľkosti z 'M' (megabajty) a 'K'/'k' (kilobajty) na exponenciálny zápis\n",
    "  * 'M' sa mení na 'e6' (milióny bajtov)\n",
    "  * 'K' a 'k' sa menia na 'e3' (tisíce bajtov)\n",
    "\n",
    "2. Vypočíta mediánovú hodnotu veľkosti zo všetkých aplikácií s konkrétnou veľkosťou (vynechá \"Varies with device\")\n",
    "\n",
    "3. Nahrádza text \"Varies with device\" vypočítanou mediánovou hodnotou, čím zabezpečí konzistentnosť dát\n",
    "\n",
    "Týmto sa všetky veľkosti štandardizujú na rovnaký formát a odstraňujú sa neštandardné hodnoty."
   ]
  },
  {
   "cell_type": "code",
   "execution_count": 11,
   "id": "1824d1b1-4226-4a78-961e-16d02bf821a5",
   "metadata": {},
   "outputs": [],
   "source": [
    "df[\"Size\"]=df[\"Size\"].str.replace(\"M\",\"e6\").str.replace(\"K\",\"e3\").str.replace(\"k\",\"e3\")\n",
    "a=df[df[\"Size\"]!=\"Varies with device\"][\"Size\"].astype(\"float\").median()\n",
    "df[\"Size\"]=df[\"Size\"].replace(\"Varies with device\",a)"
   ]
  },
  {
   "cell_type": "markdown",
   "id": "5aa1808e-195b-4692-97e2-14adbc61fff6",
   "metadata": {},
   "source": [
    "# Počet výskytov rôznych veľkostí aplikácií\n",
    "\n",
    "Príkaz `value_counts()` zobrazí distribúciu veľkostí aplikácií v našom datasete, konkrétne koľko aplikácií má akú veľkosť. Tento prehľad nám pomáha pochopiť, aké sú typické veľkosti aplikácií v Google Play Store a identifikovať prípadné extrémne alebo neobvyklé hodnoty. Je to užitočné pre overenie, či naše predchádzajúce úpravy veľkostí (prevod z MB a KB na štandardný formát) prebehli správne."
   ]
  },
  {
   "cell_type": "code",
   "execution_count": 12,
   "id": "a375e12a-014e-48dd-9133-c4c9330e2928",
   "metadata": {},
   "outputs": [
    {
     "data": {
      "text/plain": [
       "Size\n",
       "14000000.0    1468\n",
       "14e6           153\n",
       "13e6           152\n",
       "12e6           151\n",
       "15e6           149\n",
       "              ... \n",
       "383e3            1\n",
       "454e3            1\n",
       "812e3            1\n",
       "442e3            1\n",
       "619e3            1\n",
       "Name: count, Length: 413, dtype: int64"
      ]
     },
     "execution_count": 12,
     "metadata": {},
     "output_type": "execute_result"
    }
   ],
   "source": [
    "df[\"Size\"].value_counts()"
   ]
  },
  {
   "cell_type": "markdown",
   "id": "68354c61-24ab-4bb5-8f79-1dc26924f724",
   "metadata": {},
   "source": [
    "# Konverzia veľkosti na číselný formát\n",
    "\n",
    "Príkaz prevádza stĺpec 'Size' na číselný formát pomocou pandas funkcie `to_numeric()`. To znamená, že všetky hodnoty veľkostí, ktoré sme predtým upravili (z MB a KB), sa teraz konvertujú na čísla, s ktorými môžeme ďalej matematicky pracovať. Táto konverzia je kľúčová pre ďalšie analýzy, ako napríklad výpočet priemernej veľkosti aplikác"
   ]
  },
  {
   "cell_type": "code",
   "execution_count": 13,
   "id": "3ae5c0df-82a1-49f6-aef3-138100399ffe",
   "metadata": {},
   "outputs": [],
   "source": [
    "df.Size=pd.to_numeric(df[\"Size\"])"
   ]
  },
  {
   "cell_type": "markdown",
   "id": "b57b82e7-5108-4da9-8504-309f76112664",
   "metadata": {},
   "source": [
    "# Zobrazenie unikátnych hodnôt inštalácií\n",
    "\n",
    "Príkaz `unique()` zobrazí všetky rôzne hodnoty, ktoré sa vyskytujú v stĺpci 'Installs'. V tomto prípade vidíme, že počty inštalácií sú uložené ako textové reťazce s formátom ako \"1,000+\", \"10,000+\", atď., čo naznačuje, že budeme potrebovať ďalšiu úpravu týchto dát. Pred vykonaním akejkoľvek analýzy musíme tieto textové hodnoty previesť na číselný formát odstránením znakov '+' a ',' a konverziou na číselný dátový typ. Toto nám umožní vykonávať matematické operácie a analýzy nad počtom inštalácií."
   ]
  },
  {
   "cell_type": "code",
   "execution_count": 14,
   "id": "4869cb2c-e964-47a1-80b5-287771081883",
   "metadata": {},
   "outputs": [
    {
     "data": {
      "text/plain": [
       "array(['10,000+', '500,000+', '5,000,000+', '50,000,000+', '100,000+',\n",
       "       '50,000+', '1,000,000+', '10,000,000+', '5,000+', '100,000,000+',\n",
       "       '1,000,000,000+', '1,000+', '500,000,000+', '100+', '500+', '10+',\n",
       "       '5+', '50+', '1+'], dtype=object)"
      ]
     },
     "execution_count": 14,
     "metadata": {},
     "output_type": "execute_result"
    }
   ],
   "source": [
    "df[\"Installs\"].unique()"
   ]
  },
  {
   "cell_type": "markdown",
   "id": "3080a762-a7a5-4f48-a3a7-bdf93df9ba9a",
   "metadata": {},
   "source": [
    "# Čistenie údajov o počte inštalácií\n",
    "\n",
    "Tento kód čistí a konvertuje údaje o počte inštalácií aplikácií v troch krokoch, aby sme ich mohli použiť pre ďalšie analýzy:\n",
    "\n",
    "1. Odstránenie znaku '+' z konca čísel (napr. \"1000+\" → \"1000\") pomocou lambda funkcie\n",
    "2. Odstránenie oddeľovačov tisícov ',' (napr. \"1,000\" → \"1000\")\n",
    "3. Konverzia očistených textových reťazcov na celé čísla pomocou funkcie int()\n",
    "\n",
    "Týmto procesom sa textové hodnoty ako \"1,000+\" transformujú na číselné hodnoty (napr. 1000), s ktorými môžeme ďalej matematicky pracovať."
   ]
  },
  {
   "cell_type": "code",
   "execution_count": 15,
   "id": "438b114d-539b-4d86-ad9d-82ad2772d940",
   "metadata": {},
   "outputs": [],
   "source": [
    "df[\"Installs\"]=df[\"Installs\"].apply(lambda x: x.replace(\"+\",\"\"))\n",
    "df[\"Installs\"]=df[\"Installs\"].apply(lambda x: x.replace(\",\",\"\"))\n",
    "df[\"Installs\"]=df[\"Installs\"].apply(lambda x:int(x))"
   ]
  },
  {
   "cell_type": "code",
   "execution_count": 16,
   "id": "2afe9a33-e035-4f2e-b88c-02677d70328a",
   "metadata": {},
   "outputs": [
    {
     "data": {
      "text/plain": [
       "0           10000\n",
       "1          500000\n",
       "2         5000000\n",
       "3        50000000\n",
       "4          100000\n",
       "           ...   \n",
       "10834         500\n",
       "10836        5000\n",
       "10837         100\n",
       "10839        1000\n",
       "10840    10000000\n",
       "Name: Installs, Length: 8886, dtype: int64"
      ]
     },
     "execution_count": 16,
     "metadata": {},
     "output_type": "execute_result"
    }
   ],
   "source": [
    "df[\"Installs\"]"
   ]
  },
  {
   "cell_type": "markdown",
   "id": "2cdaa919-92e2-4da2-bccc-471302efff84",
   "metadata": {},
   "source": [
    "# Zobrazenie unikátnych cenových hodnôt\n",
    "\n",
    "Príkaz `unique()` zobrazí všetky rôzne cenové hodnoty v datasete. Vidíme, že ceny sú uložené v textovom formáte s dolárovou značkou '$', napríklad \"$0\", \"$0.99\", \"$4.99\", a obsahujú aj hodnotu"
   ]
  },
  {
   "cell_type": "code",
   "execution_count": 17,
   "id": "e9f37239-7c49-4592-bb69-4e9b7928ee39",
   "metadata": {},
   "outputs": [
    {
     "data": {
      "text/plain": [
       "array(['0', '$4.99', '$3.99', '$6.99', '$7.99', '$5.99', '$2.99', '$3.49',\n",
       "       '$1.99', '$9.99', '$7.49', '$0.99', '$9.00', '$5.49', '$10.00',\n",
       "       '$24.99', '$11.99', '$79.99', '$16.99', '$14.99', '$29.99',\n",
       "       '$12.99', '$2.49', '$10.99', '$1.50', '$19.99', '$15.99', '$33.99',\n",
       "       '$39.99', '$3.95', '$4.49', '$1.70', '$8.99', '$1.49', '$3.88',\n",
       "       '$399.99', '$17.99', '$400.00', '$3.02', '$1.76', '$4.84', '$4.77',\n",
       "       '$1.61', '$2.50', '$1.59', '$6.49', '$1.29', '$299.99', '$379.99',\n",
       "       '$37.99', '$18.99', '$389.99', '$8.49', '$1.75', '$14.00', '$2.00',\n",
       "       '$3.08', '$2.59', '$19.40', '$3.90', '$4.59', '$15.46', '$3.04',\n",
       "       '$13.99', '$4.29', '$3.28', '$4.60', '$1.00', '$2.95', '$2.90',\n",
       "       '$1.97', '$2.56', '$1.20'], dtype=object)"
      ]
     },
     "execution_count": 17,
     "metadata": {},
     "output_type": "execute_result"
    }
   ],
   "source": [
    "df[\"Price\"].unique()"
   ]
  },
  {
   "cell_type": "markdown",
   "id": "3e30f7bf-b4ed-43aa-843e-6381fee1dfa0",
   "metadata": {},
   "source": [
    "# Úprava cenových údajov na čísla\n",
    "\n",
    "Kód upravuje cenové údaje v datasete v dvoch krokoch:\n",
    "\n",
    "1. Odstránenie značky dolára ($) z cenovej hodnoty pomocou lambda funkcie, ktorá aplikuje metódu `replace()` na každú hodnotu v stĺpci 'Price'\n",
    "  * Napríklad: \"$0.99\" sa zmení na \"0.99\"\n",
    "\n",
    "2. Konverzia textových hodnôt na desatinné čísla pomocou funkcie `float()`\n",
    "  * Napríklad: \"0.99\" sa zmení na numerickú hodnotu 0.99\n",
    "\n",
    "Po tejto úprave môžeme s cenami pracovať matematicky - počítať priemery, mediány, analyzovať cenovú distribúciu a hľadať vzťahy medzi cenou a inými vlastnosťami aplikácií."
   ]
  },
  {
   "cell_type": "code",
   "execution_count": 18,
   "id": "7e6a7c2d-6f1c-4f7f-ae40-7946a3f5ec45",
   "metadata": {},
   "outputs": [],
   "source": [
    "df[\"Price\"]=df[\"Price\"].apply(lambda x: x.replace(\"$\",\"\"))\n",
    "df[\"Price\"]=df[\"Price\"].apply(lambda x:float(x))"
   ]
  },
  {
   "cell_type": "code",
   "execution_count": 19,
   "id": "a47bd01a-074f-40a9-8a07-90a4e8ee3627",
   "metadata": {},
   "outputs": [
    {
     "data": {
      "text/plain": [
       "array(['Art & Design', 'Art & Design;Pretend Play',\n",
       "       'Art & Design;Creativity', 'Auto & Vehicles', 'Beauty',\n",
       "       'Books & Reference', 'Business', 'Comics', 'Comics;Creativity',\n",
       "       'Communication', 'Dating', 'Education;Education', 'Education',\n",
       "       'Education;Creativity', 'Education;Music & Video',\n",
       "       'Education;Action & Adventure', 'Education;Pretend Play',\n",
       "       'Education;Brain Games', 'Entertainment',\n",
       "       'Entertainment;Music & Video', 'Entertainment;Brain Games',\n",
       "       'Entertainment;Creativity', 'Events', 'Finance', 'Food & Drink',\n",
       "       'Health & Fitness', 'House & Home', 'Libraries & Demo',\n",
       "       'Lifestyle', 'Lifestyle;Pretend Play',\n",
       "       'Adventure;Action & Adventure', 'Arcade', 'Casual', 'Card',\n",
       "       'Casual;Pretend Play', 'Action', 'Strategy', 'Puzzle', 'Sports',\n",
       "       'Music', 'Word', 'Racing', 'Casual;Creativity',\n",
       "       'Casual;Action & Adventure', 'Simulation', 'Adventure', 'Board',\n",
       "       'Trivia', 'Role Playing', 'Simulation;Education',\n",
       "       'Action;Action & Adventure', 'Casual;Brain Games',\n",
       "       'Simulation;Action & Adventure', 'Educational;Creativity',\n",
       "       'Puzzle;Brain Games', 'Educational;Education', 'Card;Brain Games',\n",
       "       'Educational;Brain Games', 'Educational;Pretend Play',\n",
       "       'Entertainment;Education', 'Casual;Education',\n",
       "       'Music;Music & Video', 'Racing;Action & Adventure',\n",
       "       'Arcade;Pretend Play', 'Role Playing;Action & Adventure',\n",
       "       'Simulation;Pretend Play', 'Puzzle;Creativity',\n",
       "       'Sports;Action & Adventure', 'Educational;Action & Adventure',\n",
       "       'Arcade;Action & Adventure', 'Entertainment;Action & Adventure',\n",
       "       'Puzzle;Action & Adventure', 'Strategy;Action & Adventure',\n",
       "       'Music & Audio;Music & Video', 'Health & Fitness;Education',\n",
       "       'Adventure;Education', 'Board;Brain Games',\n",
       "       'Board;Action & Adventure', 'Board;Pretend Play',\n",
       "       'Casual;Music & Video', 'Role Playing;Pretend Play',\n",
       "       'Entertainment;Pretend Play', 'Video Players & Editors;Creativity',\n",
       "       'Card;Action & Adventure', 'Medical', 'Social', 'Shopping',\n",
       "       'Photography', 'Travel & Local',\n",
       "       'Travel & Local;Action & Adventure', 'Tools', 'Tools;Education',\n",
       "       'Personalization', 'Productivity', 'Parenting',\n",
       "       'Parenting;Music & Video', 'Parenting;Brain Games',\n",
       "       'Parenting;Education', 'Weather', 'Video Players & Editors',\n",
       "       'Video Players & Editors;Music & Video', 'News & Magazines',\n",
       "       'Maps & Navigation', 'Health & Fitness;Action & Adventure',\n",
       "       'Educational', 'Casino', 'Adventure;Brain Games',\n",
       "       'Lifestyle;Education', 'Books & Reference;Education',\n",
       "       'Puzzle;Education', 'Role Playing;Brain Games',\n",
       "       'Strategy;Education', 'Racing;Pretend Play',\n",
       "       'Communication;Creativity', 'Strategy;Creativity'], dtype=object)"
      ]
     },
     "execution_count": 19,
     "metadata": {},
     "output_type": "execute_result"
    }
   ],
   "source": [
    "df[\"Genres\"].unique()"
   ]
  },
  {
   "cell_type": "markdown",
   "id": "73de4eef-b87b-4d77-9107-36cecadb0b35",
   "metadata": {},
   "source": [
    "# Úprava a zobrazenie žánrov\n",
    "\n",
    "Kód najprv vyberie z každej aplikácie len prvý žáner (pred bodkočiarkou) a následne zobrazí zoznam všetkých unikátnych žánrov v datasete, čo nám dáva jasnejší prehľad o základných kategóriách aplikácií."
   ]
  },
  {
   "cell_type": "code",
   "execution_count": 20,
   "id": "22974e43-ca8f-4e3b-9bfb-d73ad11932f6",
   "metadata": {},
   "outputs": [
    {
     "data": {
      "text/plain": [
       "array(['Art & Design', 'Auto & Vehicles', 'Beauty', 'Books & Reference',\n",
       "       'Business', 'Comics', 'Communication', 'Dating', 'Education',\n",
       "       'Entertainment', 'Events', 'Finance', 'Food & Drink',\n",
       "       'Health & Fitness', 'House & Home', 'Libraries & Demo',\n",
       "       'Lifestyle', 'Adventure', 'Arcade', 'Casual', 'Card', 'Action',\n",
       "       'Strategy', 'Puzzle', 'Sports', 'Music', 'Word', 'Racing',\n",
       "       'Simulation', 'Board', 'Trivia', 'Role Playing', 'Educational',\n",
       "       'Music & Audio', 'Video Players & Editors', 'Medical', 'Social',\n",
       "       'Shopping', 'Photography', 'Travel & Local', 'Tools',\n",
       "       'Personalization', 'Productivity', 'Parenting', 'Weather',\n",
       "       'News & Magazines', 'Maps & Navigation', 'Casino'], dtype=object)"
      ]
     },
     "execution_count": 20,
     "metadata": {},
     "output_type": "execute_result"
    }
   ],
   "source": [
    "df[\"Genres\"]=df[\"Genres\"].str.split(\";\").str[0]\n",
    "df[\"Genres\"].unique()"
   ]
  },
  {
   "cell_type": "code",
   "execution_count": 21,
   "id": "15b7422f-d520-4e64-a5fa-5d0e6cbc3098",
   "metadata": {},
   "outputs": [
    {
     "data": {
      "text/plain": [
       "Genres\n",
       "Tools                      733\n",
       "Entertainment              538\n",
       "Education                  528\n",
       "Action                     364\n",
       "Productivity               334\n",
       "Finance                    317\n",
       "Communication              308\n",
       "Personalization            308\n",
       "Lifestyle                  306\n",
       "Photography                304\n",
       "Sports                     303\n",
       "Medical                    302\n",
       "Business                   270\n",
       "Health & Fitness           264\n",
       "Casual                     255\n",
       "Social                     244\n",
       "Arcade                     220\n",
       "News & Magazines           214\n",
       "Simulation                 210\n",
       "Travel & Local             205\n",
       "Shopping                   202\n",
       "Books & Reference          179\n",
       "Video Players & Editors    163\n",
       "Dating                     159\n",
       "Puzzle                     142\n",
       "Maps & Navigation          124\n",
       "Role Playing               116\n",
       "Racing                     114\n",
       "Food & Drink               106\n",
       "Strategy                   105\n",
       "Educational                 97\n",
       "Adventure                   89\n",
       "Weather                     75\n",
       "Auto & Vehicles             73\n",
       "House & Home                68\n",
       "Art & Design                64\n",
       "Libraries & Demo            64\n",
       "Board                       60\n",
       "Comics                      58\n",
       "Parenting                   50\n",
       "Card                        48\n",
       "Events                      45\n",
       "Beauty                      42\n",
       "Casino                      37\n",
       "Trivia                      28\n",
       "Word                        27\n",
       "Music                       23\n",
       "Music & Audio                1\n",
       "Name: count, dtype: int64"
      ]
     },
     "execution_count": 21,
     "metadata": {},
     "output_type": "execute_result"
    }
   ],
   "source": [
    "df[\"Genres\"].value_counts()"
   ]
  },
  {
   "cell_type": "markdown",
   "id": "9c191c8c-7425-452a-9d68-3e467bece4f6",
   "metadata": {},
   "source": [
    "# Úprava dátumov poslednej aktualizácie\n",
    "\n",
    "Kód spracováva dátumy poslednej aktualizácie aplikácií tak, aby boli užitočnejšie pre analýzu. Najprv konvertuje stĺpec 'Last_Updated' na skutočný dátumový formát, potom z neho extrahuje deň, mesiac a rok do samostatných stĺpcov. Pôvodný stĺpec s dátumami sa následne odstráni a zobrazí sa ukážka prvých troch riadkov upraveného datasetu pre kontrolu. Táto úprava nám umožňuje lepšie analyzovať časové vzory v aktualizáciách aplikácií."
   ]
  },
  {
   "cell_type": "code",
   "execution_count": 22,
   "id": "f0d99457-d702-45a0-9295-edc0e8bb3a95",
   "metadata": {},
   "outputs": [
    {
     "data": {
      "text/html": [
       "<div>\n",
       "<style scoped>\n",
       "    .dataframe tbody tr th:only-of-type {\n",
       "        vertical-align: middle;\n",
       "    }\n",
       "\n",
       "    .dataframe tbody tr th {\n",
       "        vertical-align: top;\n",
       "    }\n",
       "\n",
       "    .dataframe thead th {\n",
       "        text-align: right;\n",
       "    }\n",
       "</style>\n",
       "<table border=\"1\" class=\"dataframe\">\n",
       "  <thead>\n",
       "    <tr style=\"text-align: right;\">\n",
       "      <th></th>\n",
       "      <th>App</th>\n",
       "      <th>Category</th>\n",
       "      <th>Rating</th>\n",
       "      <th>Reviews</th>\n",
       "      <th>Size</th>\n",
       "      <th>Installs</th>\n",
       "      <th>Type</th>\n",
       "      <th>Price</th>\n",
       "      <th>Content_Rating</th>\n",
       "      <th>Genres</th>\n",
       "      <th>Current_Ver</th>\n",
       "      <th>Android_Ver</th>\n",
       "      <th>Updated_Day</th>\n",
       "      <th>Updated_Month</th>\n",
       "      <th>Updated_Year</th>\n",
       "    </tr>\n",
       "  </thead>\n",
       "  <tbody>\n",
       "    <tr>\n",
       "      <th>0</th>\n",
       "      <td>Photo Editor &amp; Candy Camera &amp; Grid &amp; ScrapBook</td>\n",
       "      <td>ART_AND_DESIGN</td>\n",
       "      <td>4.1</td>\n",
       "      <td>159</td>\n",
       "      <td>19000000.0</td>\n",
       "      <td>10000</td>\n",
       "      <td>Free</td>\n",
       "      <td>0.0</td>\n",
       "      <td>Everyone</td>\n",
       "      <td>Art &amp; Design</td>\n",
       "      <td>1.0.0</td>\n",
       "      <td>4.0.3 and up</td>\n",
       "      <td>7</td>\n",
       "      <td>1</td>\n",
       "      <td>2018</td>\n",
       "    </tr>\n",
       "    <tr>\n",
       "      <th>1</th>\n",
       "      <td>Coloring book moana</td>\n",
       "      <td>ART_AND_DESIGN</td>\n",
       "      <td>3.9</td>\n",
       "      <td>967</td>\n",
       "      <td>14000000.0</td>\n",
       "      <td>500000</td>\n",
       "      <td>Free</td>\n",
       "      <td>0.0</td>\n",
       "      <td>Everyone</td>\n",
       "      <td>Art &amp; Design</td>\n",
       "      <td>2.0.0</td>\n",
       "      <td>4.0.3 and up</td>\n",
       "      <td>15</td>\n",
       "      <td>1</td>\n",
       "      <td>2018</td>\n",
       "    </tr>\n",
       "    <tr>\n",
       "      <th>2</th>\n",
       "      <td>U Launcher Lite – FREE Live Cool Themes, Hide ...</td>\n",
       "      <td>ART_AND_DESIGN</td>\n",
       "      <td>4.7</td>\n",
       "      <td>87510</td>\n",
       "      <td>8700000.0</td>\n",
       "      <td>5000000</td>\n",
       "      <td>Free</td>\n",
       "      <td>0.0</td>\n",
       "      <td>Everyone</td>\n",
       "      <td>Art &amp; Design</td>\n",
       "      <td>1.2.4</td>\n",
       "      <td>4.0.3 and up</td>\n",
       "      <td>1</td>\n",
       "      <td>8</td>\n",
       "      <td>2018</td>\n",
       "    </tr>\n",
       "  </tbody>\n",
       "</table>\n",
       "</div>"
      ],
      "text/plain": [
       "                                                 App        Category  Rating  \\\n",
       "0     Photo Editor & Candy Camera & Grid & ScrapBook  ART_AND_DESIGN     4.1   \n",
       "1                                Coloring book moana  ART_AND_DESIGN     3.9   \n",
       "2  U Launcher Lite – FREE Live Cool Themes, Hide ...  ART_AND_DESIGN     4.7   \n",
       "\n",
       "  Reviews        Size  Installs  Type  Price Content_Rating        Genres  \\\n",
       "0     159  19000000.0     10000  Free    0.0       Everyone  Art & Design   \n",
       "1     967  14000000.0    500000  Free    0.0       Everyone  Art & Design   \n",
       "2   87510   8700000.0   5000000  Free    0.0       Everyone  Art & Design   \n",
       "\n",
       "  Current_Ver   Android_Ver  Updated_Day  Updated_Month  Updated_Year  \n",
       "0       1.0.0  4.0.3 and up            7              1          2018  \n",
       "1       2.0.0  4.0.3 and up           15              1          2018  \n",
       "2       1.2.4  4.0.3 and up            1              8          2018  "
      ]
     },
     "execution_count": 22,
     "metadata": {},
     "output_type": "execute_result"
    }
   ],
   "source": [
    "df[\"Last_Updated\"]=pd.to_datetime(df[\"Last_Updated\"])\n",
    "df[\"Updated_Day\"]=df[\"Last_Updated\"].dt.day\n",
    "df[\"Updated_Month\"]=df[\"Last_Updated\"].dt.month\n",
    "df[\"Updated_Year\"]=df[\"Last_Updated\"].dt.year\n",
    "df=df.drop(\"Last_Updated\",axis=1)\n",
    "df.head(3)"
   ]
  },
  {
   "cell_type": "markdown",
   "id": "3bf6bb55-152d-4f21-aff3-ad6631e6a0d9",
   "metadata": {},
   "source": [
    "# Uloženie vyčisteného datasetu\n",
    "\n",
    "Tento príkaz ukladá náš vyčistený a upravený dataset do nového CSV súboru s názvom 'cleaned_googleplaystore.csv'. Parameter `index=False` zabezpečuje, že sa do súboru neuložia indexové čísla riadkov, čím udržíme dáta čisté a pripravené na ďalšie použitie. Tento krok je dôležitým zavŕšením nášho procesu čistenia dát, pretože nám umožňuje zachovať všetky naše úpravy a transformácie pre budúce analýzy bez potreby opakovania procesu čistenia."
   ]
  },
  {
   "cell_type": "code",
   "execution_count": 23,
   "id": "57b43eb3-0aeb-4d60-af9a-46d0cb12b1e0",
   "metadata": {},
   "outputs": [],
   "source": [
    "df.to_csv('cleaned_googleplaystore.csv', index=False)\n"
   ]
  }
 ],
 "metadata": {
  "kernelspec": {
   "display_name": "Python 3 (ipykernel)",
   "language": "python",
   "name": "python3"
  },
  "language_info": {
   "codemirror_mode": {
    "name": "ipython",
    "version": 3
   },
   "file_extension": ".py",
   "mimetype": "text/x-python",
   "name": "python",
   "nbconvert_exporter": "python",
   "pygments_lexer": "ipython3",
   "version": "3.12.3"
  }
 },
 "nbformat": 4,
 "nbformat_minor": 5
}
