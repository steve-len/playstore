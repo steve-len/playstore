{
 "cells": [
  {
   "cell_type": "markdown",
   "id": "a817ca28-a890-437e-9614-a1bbc8d75fe7",
   "metadata": {},
   "source": [
    "**Rozdelenie na kategorie prichadza v úvahu** "
   ]
  },
  {
   "cell_type": "markdown",
   "id": "f6a15656-50ab-4586-a41e-a6501d7f0f9e",
   "metadata": {},
   "source": [
    "# Import Python knižníc pre strojové učenie\n",
    "\n",
    "* **NumPy a Pandas** slúžia na prácu s dátami - NumPy pre matematické operácie a Pandas pre prácu s tabuľkami.\n",
    "\n",
    "* **Scikit-learn** poskytuje nástroje pre strojové učenie - delenie dát na trénovacie a testovacie množiny (`train_test_split`), hodnotenie modelov (`classification_report`), úpravu dát (`LabelEncoder`, `StandardScaler`) a implementáciu Random Forest algoritmov.\n",
    "\n",
    "* **Pomocné knižnice** ako `os` pre prácu so súbormi, `joblib` pre ukladanie modelov a konfiguračný súbor definujúci cestu k dátam.\n",
    "\n",
    "  "
   ]
  },
  {
   "cell_type": "code",
   "execution_count": 3,
   "id": "f668360a-dccb-4c09-94fc-3f831c7b6cde",
   "metadata": {},
   "outputs": [],
   "source": [
    "import numpy as np\n",
    "import os\n",
    "import pandas as pd\n",
    "from sklearn.model_selection import train_test_split\n",
    "from sklearn.metrics import classification_report, accuracy_score\n",
    "\n",
    "from sklearn.preprocessing import LabelEncoder, StandardScaler\n",
    "from sklearn.ensemble import RandomForestRegressor, RandomForestClassifier\n",
    "from sklearn.metrics import mean_squared_error, r2_score\n",
    "from sklearn.pipeline import Pipeline\n",
    "\n",
    "import joblib\n",
    "from playstore.config import CLEAN_DATA_DIR"
   ]
  },
  {
   "cell_type": "markdown",
   "id": "841265e5-acaf-476f-b1f3-b1e2c1fda4c0",
   "metadata": {},
   "source": [
    "# Načítanie dát z CSV súboru\n",
    "\n",
    "Kód sa snaží načítať dáta z CSV súboru \"cleaned_googleplaystore.csv\". Ak sa načítanie nepodarí (napríklad ak súbor neexistuje), vytvorí sa záložný DataFrame s ukážkovými dátami obsahujúci:\n",
    "- kategóriu aplikácie\n",
    "- hodnotenie\n",
    "- typ (platená/bezplatná)\n",
    "- počet inštalácií"
   ]
  },
  {
   "cell_type": "code",
   "execution_count": 8,
   "id": "2a7388be-ee67-498f-acca-48911a66963c",
   "metadata": {},
   "outputs": [
    {
     "name": "stdout",
     "output_type": "stream",
     "text": [
      "Loaded\n"
     ]
    }
   ],
   "source": [
    "# Load data\n",
    "try:\n",
    "    df = pd.read_csv(\"cleaned_googleplaystore.csv\")  # Update to your actual file path if different\n",
    "    print(\"Loaded\")\n",
    "except Exception as e:\n",
    "    print(\"Error loading data:\", e)\n",
    "    df = pd.DataFrame({\n",
    "        'Category': ['Game', 'Education', 'Business'],\n",
    "        'Rating': [4.5, 4.0, 3.8],\n",
    "        'Type': ['Free', 'Free', 'Paid'],\n",
    "        'Installs': [1000000, 500000, 100000],\n",
    "    })\n"
   ]
  },
  {
   "cell_type": "markdown",
   "id": "39b2b3e5-c3ba-4681-9665-16f79e1cb836",
   "metadata": {},
   "source": [
    "# Proces trénovania modelu strojového učenia pre klasifikáciu hodnotení aplikácií\n",
    "\n",
    "## Step 1: Príprava dát\n",
    "* Kategórie aplikácií sa prevádzajú na číselné hodnoty pomocou LabelEncoder\n",
    "* Hodnotenia (Rating) sa kategorizujú do troch skupín:\n",
    "  - Nízke (0-3.5)\n",
    "  - Stredné (3.5-4.5) \n",
    "  - Vysoké (4.5-5)\n",
    "______________\n",
    "* Prečo sa to rozdelovalo do kategorii?\n",
    "  - Pretože pokial by sme použili na predikovanie RF tak dostaveme hodnoty ktoré sú skreslené a pravdepodobne model je pretrenovaný 0.998..(prediction_1_not_used)- z dvovodu toho že používame rating aj v X premených. \n",
    "  - Ak tento rating ostraníme z X prepemných tak sa dostavame k nizkým hodnoma ako je 0.01.. (prediction_2_not_used), čo je veľmi málo pretože Rating je silne zavyslí na Reviews a tým padom jediná premená ktorá ovplyvnuje je Reviews. \n",
    "## Step 2: Výber vlastností (features)\n",
    "* Pre model sa vyberú len relevantné vlastnosti:\n",
    "  - Počet recenzií (Reviews)\n",
    "  - Počet inštalácií (Installs)\n",
    "  - Zakódovaná kategória (Category_encoded) -> 0-32 na numbers (analyza je v dalsich krokoch)\n",
    "\n",
    "## Step 3: Rozdelenie dát\n",
    "* Dáta sa rozdelia na trénovaciu (80%) a testovaciu (20%) množinu\n",
    "\n",
    "## Step 4: Trénovanie modelu\n",
    "* Použije rozne modely --> dalej je to popisane\n",
    "* Natrénovaný model sa uloží do súboru 'rf_model_category.pkl'"
   ]
  },
  {
   "cell_type": "code",
   "execution_count": 9,
   "id": "b2643bfe-637a-404e-9727-68eb3a9e2de7",
   "metadata": {},
   "outputs": [
    {
     "name": "stdout",
     "output_type": "stream",
     "text": [
      "0        0\n",
      "1        0\n",
      "2        0\n",
      "3        0\n",
      "4        0\n",
      "        ..\n",
      "8881    11\n",
      "8882    11\n",
      "8883    11\n",
      "8884     3\n",
      "8885    18\n",
      "Name: Category_encoded, Length: 8886, dtype: int64\n"
     ]
    },
    {
     "data": {
      "text/plain": [
       "['rf_model_category.pkl']"
      ]
     },
     "execution_count": 9,
     "metadata": {},
     "output_type": "execute_result"
    }
   ],
   "source": [
    "le_category = LabelEncoder()\n",
    "df['Category_encoded'] = le_category.fit_transform(df['Category'])\n",
    "print(df['Category_encoded'])\n",
    "\n",
    "df['Rating_category'] = pd.cut(\n",
    "    df['Rating'],\n",
    "    bins=[0, 3.5, 4.5, 5],\n",
    "    labels=['Low', 'Medium', 'High']\n",
    ")\n",
    "le_rating = LabelEncoder()\n",
    "df['Rating_encoded'] = le_rating.fit_transform(df['Rating_category'])\n",
    "\n",
    "# Step 2: \n",
    "features = ['Reviews', 'Installs', 'Category_encoded'] \n",
    "X = df[features]\n",
    "y = df['Rating_encoded']\n",
    "\n",
    "# Step 3\n",
    "X_train, X_test, y_train, y_test = train_test_split(X, y, test_size=0.2, random_state=42)\n",
    "\n",
    "# Step 4\n",
    "clf = RandomForestClassifier(n_estimators=100, max_depth=10, random_state=42)\n",
    "clf.fit(X_train, y_train)\n",
    "\n",
    "joblib.dump(clf, 'rf_model_category.pkl')\n"
   ]
  },
  {
   "cell_type": "markdown",
   "id": "786569e0-c336-45b0-a223-30d59dd5cbc2",
   "metadata": {},
   "source": [
    "### Trening s GridSearchCV \n",
    "* pre dostanie lepsieho vysledku\n",
    "* strašne veľa Medium(možno rozdeliť inak)"
   ]
  },
  {
   "cell_type": "code",
   "execution_count": 5,
   "id": "9a4165eb-9763-4a19-b3f7-ce12b9ea02d7",
   "metadata": {},
   "outputs": [
    {
     "name": "stdout",
     "output_type": "stream",
     "text": [
      "Requirement already satisfied: imbalanced-learn in /Users/steve/PycharmProjects/uu_school/playstore/venv/lib/python3.12/site-packages (0.13.0)\n",
      "Requirement already satisfied: numpy<3,>=1.24.3 in /Users/steve/PycharmProjects/uu_school/playstore/venv/lib/python3.12/site-packages (from imbalanced-learn) (2.2.1)\n",
      "Requirement already satisfied: scipy<2,>=1.10.1 in /Users/steve/PycharmProjects/uu_school/playstore/venv/lib/python3.12/site-packages (from imbalanced-learn) (1.14.1)\n",
      "Requirement already satisfied: scikit-learn<2,>=1.3.2 in /Users/steve/PycharmProjects/uu_school/playstore/venv/lib/python3.12/site-packages (from imbalanced-learn) (1.6.0)\n",
      "Requirement already satisfied: sklearn-compat<1,>=0.1 in /Users/steve/PycharmProjects/uu_school/playstore/venv/lib/python3.12/site-packages (from imbalanced-learn) (0.1.3)\n",
      "Requirement already satisfied: joblib<2,>=1.1.1 in /Users/steve/PycharmProjects/uu_school/playstore/venv/lib/python3.12/site-packages (from imbalanced-learn) (1.4.2)\n",
      "Requirement already satisfied: threadpoolctl<4,>=2.0.0 in /Users/steve/PycharmProjects/uu_school/playstore/venv/lib/python3.12/site-packages (from imbalanced-learn) (3.5.0)\n",
      "\n",
      "\u001b[1m[\u001b[0m\u001b[34;49mnotice\u001b[0m\u001b[1;39;49m]\u001b[0m\u001b[39;49m A new release of pip is available: \u001b[0m\u001b[31;49m24.0\u001b[0m\u001b[39;49m -> \u001b[0m\u001b[32;49m24.3.1\u001b[0m\n",
      "\u001b[1m[\u001b[0m\u001b[34;49mnotice\u001b[0m\u001b[1;39;49m]\u001b[0m\u001b[39;49m To update, run: \u001b[0m\u001b[32;49mpip install --upgrade pip\u001b[0m\n"
     ]
    }
   ],
   "source": [
    "!pip install imbalanced-learn"
   ]
  },
  {
   "cell_type": "code",
   "execution_count": null,
   "id": "f6b98f3c-77b3-455f-a5f5-2e7cb76e042e",
   "metadata": {},
   "outputs": [],
   "source": [
    "from imblearn.over_sampling import SMOTE"
   ]
  },
  {
   "cell_type": "code",
   "execution_count": 19,
   "id": "42a48cec-3655-49ed-b330-b7411fbe3d38",
   "metadata": {},
   "outputs": [],
   "source": [
    "from sklearn.model_selection import GridSearchCV\n",
    "\n",
    "from sklearn.metrics import confusion_matrix, classification_report"
   ]
  },
  {
   "cell_type": "code",
   "execution_count": 57,
   "id": "639c6ee7-1e33-4826-9d2a-58a097dc212e",
   "metadata": {},
   "outputs": [
    {
     "name": "stdout",
     "output_type": "stream",
     "text": [
      "Best parameters: {'class_weight': 'balanced', 'max_depth': 20, 'min_samples_leaf': 1, 'min_samples_split': 5, 'n_estimators': 200}\n",
      "\n",
      "Train Accuracy: 0.8503095104108047\n",
      "Test Accuracy: 0.5978627671541057\n",
      "\n",
      "Classification Report:\n",
      "              precision    recall  f1-score   support\n",
      "\n",
      "        High       0.42      0.53      0.47       368\n",
      "         Low       0.25      0.49      0.33       176\n",
      "      Medium       0.81      0.63      0.71      1234\n",
      "\n",
      "    accuracy                           0.60      1778\n",
      "   macro avg       0.49      0.55      0.50      1778\n",
      "weighted avg       0.67      0.60      0.62      1778\n",
      "\n"
     ]
    },
    {
     "data": {
      "image/png": "[encoded data removed]",
      "text/plain": [
       "<Figure size 640x480 with 2 Axes>"
      ]
     },
     "metadata": {},
     "output_type": "display_data"
    }
   ],
   "source": [
    "#Preprocessing\n",
    "le_category = LabelEncoder()\n",
    "df['Category_encoded'] = le_category.fit_transform(df['Category'])\n",
    "\n",
    "df['Rating_category'] = pd.cut(\n",
    "    df['Rating'],\n",
    "    bins=[0, 3.5, 4.5, 5],\n",
    "    labels=['Low', 'Medium', 'High']\n",
    ")\n",
    "\n",
    "le_rating = LabelEncoder()\n",
    "df['Rating_encoded'] = le_rating.fit_transform(df['Rating_category'])\n",
    "\n",
    "df['Log_Reviews'] = np.log1p(df['Reviews'])\n",
    "df['Log_Installs'] = np.log1p(df['Installs'])\n",
    "\n",
    "features = ['Log_Reviews', 'Log_Installs', 'Category_encoded']\n",
    "X = df[features]\n",
    "y = df['Rating_encoded']\n",
    "\n",
    "# Step 2:\n",
    "X_train, X_test, y_train, y_test = train_test_split(\n",
    "    X, y, test_size=0.2, random_state=42, stratify=y\n",
    ")\n",
    "\n",
    "# Step 3: \n",
    "\n",
    "smote = SMOTE(random_state=42)\n",
    "X_train_resampled, y_train_resampled = smote.fit_resample(X_train, y_train)\n",
    "\n",
    "# Potom trénuj model s resamplovanými dátami\n",
    "clf = RandomForestClassifier(\n",
    "    n_estimators=100,\n",
    "    max_depth=10,\n",
    "    random_state=42\n",
    ")\n",
    "clf.fit(X_train_resampled, y_train_resampled)\n",
    "\n",
    "grid_search = GridSearchCV(\n",
    "    RandomForestClassifier(random_state=42),\n",
    "    param_grid,\n",
    "    cv=3,\n",
    "    scoring='accuracy',\n",
    "    n_jobs=-1\n",
    ")\n",
    "grid_search.fit(X_train_resampled, y_train_resampled)\n",
    "\n",
    "clf = grid_search.best_estimator_\n",
    "print(\"Best parameters:\", grid_search.best_params_)\n",
    "\n",
    "# Step 5: \n",
    "train_pred = clf.predict(X_train)\n",
    "test_pred = clf.predict(X_test)\n",
    "\n",
    "print(\"\\nTrain Accuracy:\", accuracy_score(y_train, train_pred))\n",
    "print(\"Test Accuracy:\", accuracy_score(y_test, test_pred))\n",
    "\n",
    "print(\"\\nClassification Report:\")\n",
    "print(classification_report(y_test, test_pred, target_names=le_rating.classes_))\n",
    "\n",
    "# Confusion matrix\n",
    "conf_matrix = confusion_matrix(y_test, clf.predict(X_test))\n",
    "sns.heatmap(conf_matrix, annot=True, fmt='d', cmap='Blues')\n",
    "plt.title(\"Confusion Matrix\")\n",
    "plt.xlabel(\"Predicted\")\n",
    "plt.ylabel(\"Actual\")\n",
    "plt.show()\n",
    "\n",
    "\n",
    "# # Step 6: Feature Importance\n",
    "# feature_importances = clf.feature_importances_\n",
    "# importance_df = pd.DataFrame({\n",
    "#     'Feature': features,\n",
    "#     'Importance': feature_importances\n",
    "# }).sort_values(by='Importance', ascending=False)\n",
    "\n",
    "# print(\"\\nFeature Importance:\")\n",
    "# print(importance_df)\n",
    "\n",
    "# # Plot feature importance\n",
    "# plt.barh(importance_df['Feature'], importance_df['Importance'])\n",
    "# plt.title(\"Feature Importances\")\n",
    "# plt.xlabel(\"Importance\")\n",
    "# plt.ylabel(\"Feature\")\n",
    "# plt.show()\n"
   ]
  },
  {
   "cell_type": "markdown",
   "id": "d79f5826-6265-49d0-85b3-11ad42578ade",
   "metadata": {},
   "source": [
    "### Trening s RandomizedSearchCV \n",
    "* pre dostanie lepsieho vysledku\n",
    "* asi najlepši výsledok na train/test data\n",
    "\n",
    "- Train Accuracy: 0.9739729881823298\n",
    "- Test Accuracy: 0.7024746906636671"
   ]
  },
  {
   "cell_type": "code",
   "execution_count": 11,
   "id": "a92428e9-e1db-47e2-b516-894bc43b095d",
   "metadata": {},
   "outputs": [],
   "source": [
    "from sklearn.model_selection import RandomizedSearchCV"
   ]
  },
  {
   "cell_type": "code",
   "execution_count": 28,
   "id": "113b6832-8753-45b5-9b59-c124fb2ee16f",
   "metadata": {},
   "outputs": [
    {
     "name": "stdout",
     "output_type": "stream",
     "text": [
      "\n",
      "Train Accuracy: 0.9739729881823298\n",
      "Test Accuracy: 0.7024746906636671\n",
      "\n",
      "Classification Report:\n",
      "              precision    recall  f1-score   support\n",
      "\n",
      "        High       0.48      0.41      0.44       368\n",
      "         Low       0.26      0.16      0.20       144\n",
      "      Medium       0.78      0.85      0.81      1266\n",
      "\n",
      "    accuracy                           0.70      1778\n",
      "   macro avg       0.51      0.47      0.49      1778\n",
      "weighted avg       0.68      0.70      0.69      1778\n",
      "\n"
     ]
    },
    {
     "data": {
      "image/png": "[encoded data removed]",
      "text/plain": [
       "<Figure size 640x480 with 2 Axes>"
      ]
     },
     "metadata": {},
     "output_type": "display_data"
    },
    {
     "name": "stdout",
     "output_type": "stream",
     "text": [
      "              precision    recall  f1-score   support\n",
      "\n",
      "         Low       0.48      0.41      0.44       368\n",
      "      Medium       0.26      0.16      0.20       144\n",
      "        High       0.78      0.85      0.81      1266\n",
      "\n",
      "    accuracy                           0.70      1778\n",
      "   macro avg       0.51      0.47      0.49      1778\n",
      "weighted avg       0.68      0.70      0.69      1778\n",
      "\n"
     ]
    }
   ],
   "source": [
    "\n",
    "# Preprocessing\n",
    "df['Rating_category'] = df['Rating'].apply(lambda r: 'Low' if r < 3.5 else ('Medium' if r <= 4.5 else 'High'))\n",
    "le_rating = LabelEncoder()\n",
    "df['Rating_encoded'] = le_rating.fit_transform(df['Rating_category'])\n",
    "\n",
    "le_category = LabelEncoder()\n",
    "df['Category_encoded'] = le_category.fit_transform(df['Category'])\n",
    "\n",
    "df['Log_Reviews'] = np.log1p(df['Reviews'])\n",
    "df['Log_Installs'] = np.log1p(df['Installs'])\n",
    "df['Review_to_Install_Ratio'] = df['Reviews'] / df['Installs']\n",
    "\n",
    "features = ['Log_Reviews', 'Log_Installs', 'Category_encoded', 'Review_to_Install_Ratio']\n",
    "scaler = StandardScaler()\n",
    "df[features] = scaler.fit_transform(df[features])\n",
    "\n",
    "X = df[features]\n",
    "y = df['Rating_encoded']\n",
    "\n",
    "# Train-test split\n",
    "X_train, X_test, y_train, y_test = train_test_split(X, y, test_size=0.2, random_state=42, stratify=y)\n",
    "\n",
    "# RandomizedSearchCV\n",
    "param_dist = {\n",
    "    'n_estimators': [100, 200, 300],\n",
    "    'max_depth': [10, 20, 30],\n",
    "    'min_samples_split': [2, 5, 10],\n",
    "    'min_samples_leaf': [1, 2, 4],\n",
    "    'class_weight': ['balanced']\n",
    "}\n",
    "\n",
    "param_dist = {\n",
    "    'n_estimators': [100, 200, 300],\n",
    "    'max_depth': [10, 20, 30],\n",
    "    'min_samples_split': [2, 5, 10],\n",
    "    'min_samples_leaf': [1, 2, 4],\n",
    "    'class_weight': ['balanced']\n",
    "}\n",
    "\n",
    "random_search = RandomizedSearchCV(\n",
    "    RandomForestClassifier(random_state=42),\n",
    "    param_distributions=param_dist,\n",
    "    n_iter=20,\n",
    "    cv=3,\n",
    "    scoring='accuracy',\n",
    "    n_jobs=-1,\n",
    "    random_state=42\n",
    ")\n",
    "random_search.fit(X_train, y_train)\n",
    "clf = random_search.best_estimator_\n",
    "\n",
    "\n",
    "# Evaluation\n",
    "train_pred = clf.predict(X_train)\n",
    "test_pred = clf.predict(X_test)\n",
    "\n",
    "print(\"\\nTrain Accuracy:\", accuracy_score(y_train, train_pred))\n",
    "print(\"Test Accuracy:\", accuracy_score(y_test, test_pred))\n",
    "print(\"\\nClassification Report:\")\n",
    "print(classification_report(y_test, test_pred, target_names=le_rating.classes_))\n",
    "\n",
    "# Confusion matrix\n",
    "conf_matrix = confusion_matrix(y_test, clf.predict(X_test))\n",
    "sns.heatmap(conf_matrix, annot=True, fmt='d', cmap='Blues')\n",
    "plt.title(\"Confusion Matrix\")\n",
    "plt.xlabel(\"Predicted\")\n",
    "plt.ylabel(\"Actual\")\n",
    "plt.show()\n",
    "\n",
    "# Klasifikačný report\n",
    "print(classification_report(y_test, clf.predict(X_test), target_names=[\"Low\", \"Medium\", \"High\"]))"
   ]
  },
  {
   "cell_type": "markdown",
   "id": "c8e3ec8f-2552-4264-932f-06f971473b75",
   "metadata": {},
   "source": [
    "### Trening s RandomForestClassifier s vahamy \n",
    "* pre dostanie lepsieho vysledku\n",
    "* oproti RandomizedSearchCV sa až tak nelíší ale na testovaích o ***1%+***"
   ]
  },
  {
   "cell_type": "code",
   "execution_count": 14,
   "id": "5bcaa0cd-9afc-4236-8e6b-c6b06b804d95",
   "metadata": {},
   "outputs": [
    {
     "name": "stdout",
     "output_type": "stream",
     "text": [
      "\n",
      "Train Accuracy: 0.9582160945413618\n",
      "Test Accuracy: 0.7165354330708661\n",
      "\n",
      "Classification Report:\n",
      "              precision    recall  f1-score   support\n",
      "\n",
      "        High       0.50      0.39      0.44       368\n",
      "         Low       0.27      0.09      0.13       144\n",
      "      Medium       0.78      0.88      0.83      1266\n",
      "\n",
      "    accuracy                           0.72      1778\n",
      "   macro avg       0.51      0.45      0.47      1778\n",
      "weighted avg       0.68      0.72      0.69      1778\n",
      "\n"
     ]
    }
   ],
   "source": [
    "# Preprocessing\n",
    "df['Rating_category'] = df['Rating'].apply(lambda r: 'Low' if r < 3.5 else ('Medium' if r <= 4.5 else 'High'))\n",
    "le_rating = LabelEncoder()\n",
    "df['Rating_encoded'] = le_rating.fit_transform(df['Rating_category'])\n",
    "\n",
    "le_category = LabelEncoder()\n",
    "df['Category_encoded'] = le_category.fit_transform(df['Category'])\n",
    "\n",
    "df['Log_Reviews'] = np.log1p(df['Reviews'])\n",
    "df['Log_Installs'] = np.log1p(df['Installs'])\n",
    "df['Review_to_Install_Ratio'] = df['Reviews'] / df['Installs']\n",
    "\n",
    "features = ['Log_Reviews', 'Log_Installs', 'Category_encoded', 'Review_to_Install_Ratio']\n",
    "scaler = StandardScaler()\n",
    "df[features] = scaler.fit_transform(df[features])\n",
    "\n",
    "X = df[features]\n",
    "y = df['Rating_encoded'] \n",
    "\n",
    "X_train, X_test, y_train, y_test = train_test_split(X, y, test_size=0.2, random_state=42, stratify=y)\n",
    "\n",
    "y_train = y_train.astype(int)\n",
    "y_test = y_test.astype(int)\n",
    "\n",
    "\n",
    "clf = RandomForestClassifier(\n",
    "    n_estimators=200,\n",
    "    max_depth=20,\n",
    "    class_weight={0: 3, 1: 1, 2: 2}, \n",
    "    random_state=42\n",
    ")\n",
    "\n",
    "# Training\n",
    "clf.fit(X_train, y_train)\n",
    "\n",
    "# Evaluation\n",
    "train_pred = clf.predict(X_train)\n",
    "test_pred = clf.predict(X_test)\n",
    "\n",
    "print(\"\\nTrain Accuracy:\", accuracy_score(y_train, train_pred))\n",
    "print(\"Test Accuracy:\", accuracy_score(y_test, test_pred))\n",
    "print(\"\\nClassification Report:\")\n",
    "print(classification_report(y_test, test_pred, target_names=le_rating.classes_))\n"
   ]
  },
  {
   "cell_type": "markdown",
   "id": "84674afd-ad7c-4a6a-b18f-4c4ad7cca855",
   "metadata": {
    "jp-MarkdownHeadingCollapsed": true
   },
   "source": [
    "## Step 5: Vyhodnotenie modelu\n",
    "* Vypočíta sa presnosť na trénovacích a testovacích dátach\n",
    "* Vytvorí sa detailný klasifikačný report\n",
    "\n",
    "## Step 6: Analýza dôležitosti vlastností\n",
    "* Vyhodnotí sa, ktoré vlastnosti mali najväčší vplyv na predikciu\n",
    "\n",
    "## Vyhodnotenie:\n",
    "* Da sa povedat že pravdepodobnosť na Testovacom modeli 0.70 nie je najlepšie bolo by možne popremýšlať nad zlepšením modelu na hrubý nastrel je to OK."
   ]
  },
  {
   "cell_type": "code",
   "execution_count": 31,
   "id": "63f30698-b0f4-40ef-9c60-a9f64728ef3b",
   "metadata": {},
   "outputs": [
    {
     "name": "stdout",
     "output_type": "stream",
     "text": [
      "Requirement already satisfied: seaborn in /Users/steve/PycharmProjects/uu_school/playstore/.vevn/lib/python3.12/site-packages (0.13.2)\n",
      "Requirement already satisfied: numpy!=1.24.0,>=1.20 in /Users/steve/PycharmProjects/uu_school/playstore/.vevn/lib/python3.12/site-packages (from seaborn) (2.2.1)\n",
      "Requirement already satisfied: pandas>=1.2 in /Users/steve/PycharmProjects/uu_school/playstore/.vevn/lib/python3.12/site-packages (from seaborn) (2.2.3)\n",
      "Requirement already satisfied: matplotlib!=3.6.1,>=3.4 in /Users/steve/PycharmProjects/uu_school/playstore/.vevn/lib/python3.12/site-packages (from seaborn) (3.10.0)\n",
      "Requirement already satisfied: contourpy>=1.0.1 in /Users/steve/PycharmProjects/uu_school/playstore/.vevn/lib/python3.12/site-packages (from matplotlib!=3.6.1,>=3.4->seaborn) (1.3.1)\n",
      "Requirement already satisfied: cycler>=0.10 in /Users/steve/PycharmProjects/uu_school/playstore/.vevn/lib/python3.12/site-packages (from matplotlib!=3.6.1,>=3.4->seaborn) (0.12.1)\n",
      "Requirement already satisfied: fonttools>=4.22.0 in /Users/steve/PycharmProjects/uu_school/playstore/.vevn/lib/python3.12/site-packages (from matplotlib!=3.6.1,>=3.4->seaborn) (4.55.3)\n",
      "Requirement already satisfied: kiwisolver>=1.3.1 in /Users/steve/PycharmProjects/uu_school/playstore/.vevn/lib/python3.12/site-packages (from matplotlib!=3.6.1,>=3.4->seaborn) (1.4.8)\n",
      "Requirement already satisfied: packaging>=20.0 in /Users/steve/PycharmProjects/uu_school/playstore/.vevn/lib/python3.12/site-packages (from matplotlib!=3.6.1,>=3.4->seaborn) (24.2)\n",
      "Requirement already satisfied: pillow>=8 in /Users/steve/PycharmProjects/uu_school/playstore/.vevn/lib/python3.12/site-packages (from matplotlib!=3.6.1,>=3.4->seaborn) (11.0.0)\n",
      "Requirement already satisfied: pyparsing>=2.3.1 in /Users/steve/PycharmProjects/uu_school/playstore/.vevn/lib/python3.12/site-packages (from matplotlib!=3.6.1,>=3.4->seaborn) (3.2.0)\n",
      "Requirement already satisfied: python-dateutil>=2.7 in /Users/steve/PycharmProjects/uu_school/playstore/.vevn/lib/python3.12/site-packages (from matplotlib!=3.6.1,>=3.4->seaborn) (2.9.0.post0)\n",
      "Requirement already satisfied: pytz>=2020.1 in /Users/steve/PycharmProjects/uu_school/playstore/.vevn/lib/python3.12/site-packages (from pandas>=1.2->seaborn) (2024.2)\n",
      "Requirement already satisfied: tzdata>=2022.7 in /Users/steve/PycharmProjects/uu_school/playstore/.vevn/lib/python3.12/site-packages (from pandas>=1.2->seaborn) (2024.2)\n",
      "Requirement already satisfied: six>=1.5 in /Users/steve/PycharmProjects/uu_school/playstore/.vevn/lib/python3.12/site-packages (from python-dateutil>=2.7->matplotlib!=3.6.1,>=3.4->seaborn) (1.17.0)\n",
      "\n",
      "\u001b[1m[\u001b[0m\u001b[34;49mnotice\u001b[0m\u001b[1;39;49m]\u001b[0m\u001b[39;49m A new release of pip is available: \u001b[0m\u001b[31;49m24.0\u001b[0m\u001b[39;49m -> \u001b[0m\u001b[32;49m24.3.1\u001b[0m\n",
      "\u001b[1m[\u001b[0m\u001b[34;49mnotice\u001b[0m\u001b[1;39;49m]\u001b[0m\u001b[39;49m To update, run: \u001b[0m\u001b[32;49mpip install --upgrade pip\u001b[0m\n"
     ]
    }
   ],
   "source": [
    "!pip install seaborn\n",
    "import seaborn as sns\n",
    "import matplotlib.pyplot as plt"
   ]
  },
  {
   "cell_type": "code",
   "execution_count": 32,
   "id": "5ff90d24-029c-43a7-b3c9-d19155908c28",
   "metadata": {},
   "outputs": [
    {
     "data": {
      "image/png": "[encoded data removed]",
      "text/plain": [
       "<Figure size 640x480 with 2 Axes>"
      ]
     },
     "metadata": {},
     "output_type": "display_data"
    },
    {
     "name": "stdout",
     "output_type": "stream",
     "text": [
      "              precision    recall  f1-score   support\n",
      "\n",
      "         Low       0.48      0.41      0.44       368\n",
      "      Medium       0.26      0.16      0.20       144\n",
      "        High       0.78      0.85      0.81      1266\n",
      "\n",
      "    accuracy                           0.70      1778\n",
      "   macro avg       0.51      0.47      0.49      1778\n",
      "weighted avg       0.68      0.70      0.69      1778\n",
      "\n"
     ]
    }
   ],
   "source": [
    "from sklearn.metrics import confusion_matrix, classification_report\n",
    "# Matica zámien\n",
    "conf_matrix = confusion_matrix(y_test, clf.predict(X_test))\n",
    "sns.heatmap(conf_matrix, annot=True, fmt='d', cmap='Blues')\n",
    "plt.title(\"Confusion Matrix\")\n",
    "plt.xlabel(\"Predicted\")\n",
    "plt.ylabel(\"Actual\")\n",
    "plt.show()\n",
    "\n",
    "# Klasifikačný report\n",
    "print(classification_report(y_test, clf.predict(X_test), target_names=[\"Low\", \"Medium\", \"High\"]))\n"
   ]
  },
  {
   "cell_type": "code",
   "execution_count": 33,
   "id": "58ac392e-d75c-49cb-8934-355f85a235d2",
   "metadata": {},
   "outputs": [
    {
     "name": "stdout",
     "output_type": "stream",
     "text": [
      "Train Accuracy: 0.9739729881823298\n",
      "Test Accuracy: 0.7024746906636671\n",
      "\n",
      "Classification Report:\n",
      "              precision    recall  f1-score   support\n",
      "\n",
      "        High       0.48      0.41      0.44       368\n",
      "         Low       0.26      0.16      0.20       144\n",
      "      Medium       0.78      0.85      0.81      1266\n",
      "\n",
      "    accuracy                           0.70      1778\n",
      "   macro avg       0.51      0.47      0.49      1778\n",
      "weighted avg       0.68      0.70      0.69      1778\n",
      "\n",
      "\n",
      "Feature Importance:\n",
      "                   Feature  Importance\n",
      "3  Review_to_Install_Ratio    0.358527\n",
      "0              Log_Reviews    0.345578\n",
      "2         Category_encoded    0.223999\n",
      "1             Log_Installs    0.071896\n"
     ]
    }
   ],
   "source": [
    "# Step 5\n",
    "train_pred = clf.predict(X_train)\n",
    "test_pred = clf.predict(X_test)\n",
    "print(\"Train Accuracy:\", accuracy_score(y_train, train_pred))\n",
    "print(\"Test Accuracy:\", accuracy_score(y_test, test_pred))\n",
    "print(\"\\nClassification Report:\")\n",
    "print(classification_report(y_test, test_pred, target_names=le_rating.classes_))\n",
    "\n",
    "# Step 6\n",
    "feature_importances = clf.feature_importances_\n",
    "importance_df = pd.DataFrame({\n",
    "    'Feature': features,\n",
    "    'Importance': feature_importances\n",
    "}).sort_values(by='Importance', ascending=False)\n",
    "print(\"\\nFeature Importance:\")\n",
    "print(importance_df)"
   ]
  },
  {
   "cell_type": "markdown",
   "id": "fc7fd462-b66f-4237-b434-30f92a7d4342",
   "metadata": {
    "jp-MarkdownHeadingCollapsed": true
   },
   "source": [
    "### Analýza početnosti kategórií\n",
    "\n",
    "Kód spočíta a zoradí počet aplikácií v jednotlivých zakódovaných kategóriách, čo nám dáva prehľad o distribúcii aplikácií v datasete."
   ]
  },
  {
   "cell_type": "code",
   "execution_count": null,
   "id": "e9548787-484d-42d8-8cca-e898ca2cdf9a",
   "metadata": {},
   "outputs": [],
   "source": [
    "category_counts = df['Category_encoded'].value_counts().sort_index()\n",
    "print(category_counts)"
   ]
  },
  {
   "cell_type": "markdown",
   "id": "89a4ea6d-12e0-4de6-a90c-f1affe233b42",
   "metadata": {
    "jp-MarkdownHeadingCollapsed": true
   },
   "source": [
    "# Predikcia hodnotenia pre novú aplikáciu (nezname hodnoty)\n",
    "\n",
    "Kód predikuje kategóriu hodnotenia pre novú aplikáciu, kde:\n",
    "1. Vytvorí sa nový DataFrame s vlastnosťami novej aplikácie (recenzie, inštalácie, kategória)\n",
    "2. Načíta sa uložený model a vykoná predikcia\n",
    "3. Predikcia sa dekóduje späť z číselnej hodnoty na kategóriu (Nízka/Stredná/Vysoká)"
   ]
  },
  {
   "cell_type": "code",
   "execution_count": 21,
   "id": "eaed97f0-a2ee-44bb-b6f9-feab52853d8b",
   "metadata": {},
   "outputs": [
    {
     "name": "stdout",
     "output_type": "stream",
     "text": [
      "\n",
      "Prediction for new data:\n",
      "Encoded Prediction: 2\n",
      "Decoded Prediction (Rating Category): Medium\n"
     ]
    }
   ],
   "source": [
    "new_data = pd.DataFrame({\n",
    "    'Reviews': [10],\n",
    "    'Installs': [500000],\n",
    "    'Category_encoded': [2]  # Replace with your encoded value for the category\n",
    "}, columns=features)\n",
    "\n",
    "# Load the saved model\n",
    "clf = joblib.load('rf_model_category.pkl')\n",
    "\n",
    "# Predict the category for the new data\n",
    "prediction_encoded = clf.predict(new_data)\n",
    "prediction_decoded = le_rating.inverse_transform(prediction_encoded)\n",
    "\n",
    "print(\"\\nPrediction for new data:\")\n",
    "print(\"Encoded Prediction:\", prediction_encoded[0])  # Numerical category\n",
    "print(\"Decoded Prediction (Rating Category):\", prediction_decoded[0])"
   ]
  },
  {
   "cell_type": "markdown",
   "id": "08156a81-0771-4917-8f95-29dedbb64d6e",
   "metadata": {
    "jp-MarkdownHeadingCollapsed": true
   },
   "source": [
    "# Uloženie natrénovaného modelu\n",
    "\n",
    "Kód ukladá natrénovaný model pre budúce použitie, pričom:\n",
    "1. Vytvorí sa cesta k súboru v aktuálnom pracovnom adresári (os.getcwd())\n",
    "2. Model sa uloží do súboru 'rf_model_category.pkl'\n",
    "3. Vypíše sa potvrdenie s presnou cestou, kde bol model uložený\n",
    "\n",
    "Tento krok je dôležitý pre opätovné použitie modelu bez potreby nového trénovania."
   ]
  },
  {
   "cell_type": "code",
   "execution_count": 61,
   "id": "dd4aa5f3-4c64-4b1d-9e32-4d6811d967b1",
   "metadata": {},
   "outputs": [
    {
     "name": "stdout",
     "output_type": "stream",
     "text": [
      "Model saved to /Users/steve/PycharmProjects/uu_school/playstore/notebooks/rf_model_category_third.pkl\n"
     ]
    }
   ],
   "source": [
    "model_path = os.path.join(os.getcwd(), \"rf_model_category_third.pkl\")\n",
    "joblib.dump(clf, model_path)\n",
    "print(f\"Model saved to {model_path}\")"
   ]
  },
  {
   "cell_type": "markdown",
   "id": "dd5dff8e-d591-4322-8562-7ed82d80dc8c",
   "metadata": {},
   "source": [
    "### Logistic regresion\n",
    "* skusit statisticky model na test\n",
    "  "
   ]
  },
  {
   "cell_type": "code",
   "execution_count": 51,
   "id": "e239e3b4-e389-4717-a9c9-493e3e2a0a6b",
   "metadata": {},
   "outputs": [
    {
     "name": "stdout",
     "output_type": "stream",
     "text": [
      "Confusion Matrix:\n",
      "[[183  79 106]\n",
      " [ 24 108  44]\n",
      " [269 274 691]]\n",
      "\n",
      "Classification Report:\n",
      "              precision    recall  f1-score   support\n",
      "\n",
      "           0       0.38      0.50      0.43       368\n",
      "           1       0.23      0.61      0.34       176\n",
      "           2       0.82      0.56      0.67      1234\n",
      "\n",
      "    accuracy                           0.55      1778\n",
      "   macro avg       0.48      0.56      0.48      1778\n",
      "weighted avg       0.67      0.55      0.59      1778\n",
      "\n"
     ]
    },
    {
     "name": "stderr",
     "output_type": "stream",
     "text": [
      "/Users/steve/PycharmProjects/uu_school/playstore/venv/lib/python3.12/site-packages/sklearn/linear_model/_logistic.py:1256: FutureWarning: 'multi_class' was deprecated in version 1.5 and will be removed in 1.7. Use OneVsRestClassifier(LogisticRegression(..)) instead. Leave it to its default value to avoid this warning.\n",
      "  warnings.warn(\n"
     ]
    }
   ],
   "source": [
    "from sklearn.linear_model import LogisticRegression\n",
    "from sklearn.preprocessing import StandardScaler\n",
    "from sklearn.metrics import classification_report, confusion_matrix\n",
    "\n",
    "# Normalizácia dát\n",
    "scaler = StandardScaler()\n",
    "X_train_scaled = scaler.fit_transform(X_train)\n",
    "X_test_scaled = scaler.transform(X_test)\n",
    "\n",
    "# Tréning modelu\n",
    "clf = LogisticRegression(class_weight='balanced', multi_class='ovr', max_iter=1000)\n",
    "clf.fit(X_train_scaled, y_train)\n",
    "\n",
    "# Predikcia\n",
    "y_pred = clf.predict(X_test_scaled)\n",
    "\n",
    "# Vyhodnotenie\n",
    "print(\"Confusion Matrix:\")\n",
    "print(confusion_matrix(y_test, y_pred))\n",
    "print(\"\\nClassification Report:\")\n",
    "print(classification_report(y_test, y_pred))\n"
   ]
  },
  {
   "cell_type": "markdown",
   "id": "8a8621bb-9ba3-475d-9768-99f8b466423f",
   "metadata": {},
   "source": [
    "### OneVsRest\n",
    "* skusit statisticky model na test\n"
   ]
  },
  {
   "cell_type": "code",
   "execution_count": 55,
   "id": "28bcaa1b-3b06-4391-b4f9-f023a1fa7aee",
   "metadata": {},
   "outputs": [
    {
     "name": "stdout",
     "output_type": "stream",
     "text": [
      "Confusion Matrix:\n",
      "[[184  78 106]\n",
      " [ 25 107  44]\n",
      " [271 273 690]]\n",
      "\n",
      "Classification Report:\n",
      "              precision    recall  f1-score   support\n",
      "\n",
      "           0       0.38      0.50      0.43       368\n",
      "           1       0.23      0.61      0.34       176\n",
      "           2       0.82      0.56      0.67      1234\n",
      "\n",
      "    accuracy                           0.55      1778\n",
      "   macro avg       0.48      0.56      0.48      1778\n",
      "weighted avg       0.67      0.55      0.59      1778\n",
      "\n"
     ]
    }
   ],
   "source": [
    "from sklearn.multiclass import OneVsRestClassifier\n",
    "from sklearn.linear_model import LogisticRegression\n",
    "\n",
    "clf = OneVsRestClassifier(\n",
    "    LogisticRegression(class_weight='balanced', max_iter=1000, random_state=42)\n",
    ")\n",
    "clf.fit(X_train, y_train)\n",
    "\n",
    "# Predikcia\n",
    "y_pred = clf.predict(X_test)\n",
    "\n",
    "# Vyhodnotenie\n",
    "print(\"Confusion Matrix:\")\n",
    "print(confusion_matrix(y_test, y_pred))\n",
    "print(\"\\nClassification Report:\")\n",
    "print(classification_report(y_test, y_pred))\n",
    "\n",
    "\n"
   ]
  }
 ],
 "metadata": {
  "kernelspec": {
   "display_name": "Python 3 (ipykernel)",
   "language": "python",
   "name": "python3"
  },
  "language_info": {
   "codemirror_mode": {
    "name": "ipython",
    "version": 3
   },
   "file_extension": ".py",
   "mimetype": "text/x-python",
   "name": "python",
   "nbconvert_exporter": "python",
   "pygments_lexer": "ipython3",
   "version": "3.12.3"
  }
 },
 "nbformat": 4,
 "nbformat_minor": 5
}
