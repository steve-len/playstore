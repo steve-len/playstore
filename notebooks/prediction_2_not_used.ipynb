{
 "cells": [
  {
   "cell_type": "code",
   "execution_count": 1,
   "id": "894f5cfb-77f9-4ffc-ada8-6f6d741217d3",
   "metadata": {},
   "outputs": [],
   "source": [
    "import os\n",
    "import pandas as pd\n",
    "from sklearn.model_selection import train_test_split\n",
    "from sklearn.ensemble import RandomForestRegressor\n",
    "import joblib\n",
    "from playstore.config import CLEAN_DATA_DIR"
   ]
  },
  {
   "cell_type": "code",
   "execution_count": 2,
   "id": "ec67673c-d4ad-41ca-bf43-de25f49b1432",
   "metadata": {},
   "outputs": [
    {
     "name": "stdout",
     "output_type": "stream",
     "text": [
      "Loaded\n"
     ]
    }
   ],
   "source": [
    "# Load data\n",
    "try:\n",
    "    df = pd.read_csv(\"cleaned_googleplaystore.csv\")  # Update to your actual file path if different\n",
    "    print(\"Loaded\")\n",
    "except Exception as e:\n",
    "    print(\"Error loading data:\", e)\n",
    "    df = pd.DataFrame({\n",
    "        'Category': ['Game', 'Education', 'Business'],\n",
    "        'Rating': [4.5, 4.0, 3.8],\n",
    "        'Type': ['Free', 'Free', 'Paid'],\n",
    "        'Installs': [1000000, 500000, 100000],\n",
    "    })\n"
   ]
  },
  {
   "cell_type": "code",
   "execution_count": 4,
   "id": "d78f7ae8-dfa8-48d6-90ce-91052e38b9c6",
   "metadata": {},
   "outputs": [
    {
     "name": "stderr",
     "output_type": "stream",
     "text": [
      "/var/folders/kd/bldn4b0j3q31pb8c56pgmyy80000gn/T/ipykernel_61227/33551356.py:18: FutureWarning: Setting an item of incompatible dtype is deprecated and will raise an error in a future version of pandas. Value '-823644.75' has dtype incompatible with int64, please explicitly cast to a compatible dtype first.\n",
      "  dataframe.loc[dataframe[variable] < low_limit, variable] = low_limit\n",
      "/var/folders/kd/bldn4b0j3q31pb8c56pgmyy80000gn/T/ipykernel_61227/33551356.py:18: FutureWarning: Setting an item of incompatible dtype is deprecated and will raise an error in a future version of pandas. Value '-7.5' has dtype incompatible with int64, please explicitly cast to a compatible dtype first.\n",
      "  dataframe.loc[dataframe[variable] < low_limit, variable] = low_limit\n"
     ]
    },
    {
     "name": "stdout",
     "output_type": "stream",
     "text": [
      "Model Score: 0.10400870776621507\n",
      "Model saved to /Users/steve/PycharmProjects/uu_school/playstore/notebooks/rf_model4.pkl\n"
     ]
    }
   ],
   "source": [
    "\n",
    "# Select numeric columns and drop NaN values\n",
    "numeric_columns = ['Reviews', 'Size', 'Installs', 'Price', 'Updated_Day', 'Updated_Month', 'Updated_Year', 'Rating']\n",
    "dfnum = df[numeric_columns].dropna()\n",
    "\n",
    "# Handle outliers\n",
    "def outlier_thresholds(dataframe, variable):\n",
    "    quartile1 = dataframe[variable].quantile(0.10)\n",
    "    quartile3 = dataframe[variable].quantile(0.90)\n",
    "    interquartile_range = quartile3 - quartile1\n",
    "    up_limit = quartile3 + 1.5 * interquartile_range\n",
    "    low_limit = quartile1 - 1.5 * interquartile_range\n",
    "    return low_limit, up_limit\n",
    "\n",
    "def replace_with_thresholds(dataframe, numeric_columns):\n",
    "    for variable in numeric_columns:\n",
    "        if dataframe[variable].dtype.kind in 'biufc':  # Numeric columns only\n",
    "            low_limit, up_limit = outlier_thresholds(dataframe, variable)\n",
    "            dataframe.loc[dataframe[variable] < low_limit, variable] = low_limit\n",
    "            dataframe.loc[dataframe[variable] > up_limit, variable] = up_limit\n",
    "\n",
    "replace_with_thresholds(dfnum, dfnum.columns)\n",
    "\n",
    "# Prepare data for training\n",
    "y = dfnum[\"Rating\"]  # Target variable\n",
    "x = dfnum.drop(columns=[\"Rating\"], errors=\"ignore\")  # Features\n",
    "\n",
    "# Split data into training and testing sets\n",
    "x_train, x_test, y_train, y_test = train_test_split(x, y, train_size=0.81, random_state=81)\n",
    "\n",
    "# Train the Random Forest model\n",
    "rf = RandomForestRegressor(random_state=81)\n",
    "model = rf.fit(x_train, y_train)\n",
    "\n",
    "# Evaluate the model\n",
    "score = model.score(x_test, y_test)\n",
    "print(\"Model Score:\", score)\n",
    "\n",
    "# Save the model\n",
    "model_path = os.path.join(os.getcwd(), \"rf_model4.pkl\")\n",
    "joblib.dump(model, model_path)\n",
    "print(f\"Model saved to {model_path}\")\n"
   ]
  }
 ],
 "metadata": {
  "kernelspec": {
   "display_name": "Python 3 (ipykernel)",
   "language": "python",
   "name": "python3"
  },
  "language_info": {
   "codemirror_mode": {
    "name": "ipython",
    "version": 3
   },
   "file_extension": ".py",
   "mimetype": "text/x-python",
   "name": "python",
   "nbconvert_exporter": "python",
   "pygments_lexer": "ipython3",
   "version": "3.12.3"
  }
 },
 "nbformat": 4,
 "nbformat_minor": 5
}
